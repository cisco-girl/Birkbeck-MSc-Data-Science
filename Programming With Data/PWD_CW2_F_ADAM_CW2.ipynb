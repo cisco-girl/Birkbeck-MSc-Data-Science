{
  "nbformat": 4,
  "nbformat_minor": 0,
  "metadata": {
    "kernelspec": {
      "display_name": "Python 3",
      "language": "python",
      "name": "python3"
    },
    "language_info": {
      "codemirror_mode": {
        "name": "ipython",
        "version": 3
      },
      "file_extension": ".py",
      "mimetype": "text/x-python",
      "name": "python",
      "nbconvert_exporter": "python",
      "pygments_lexer": "ipython3",
      "version": "3.7.0"
    },
    "colab": {
      "name": "PWD_CW2_F_ADAM_CW2.ipynb",
      "provenance": []
    }
  },
  "cells": [
    {
      "cell_type": "markdown",
      "metadata": {
        "id": "h6xfnlAyDa6i"
      },
      "source": [
        "# Coursework 2: Generating and Benchmarking of Health Data\n",
        "\n",
        "## Problem solving and Scalability\n",
        "\n",
        "PWD Coursework 2\n",
        "Farah Adam\n",
        "MSc Data Science Part-Time"
      ]
    },
    {
      "cell_type": "markdown",
      "metadata": {
        "id": "BdZ5W8u-Da6o"
      },
      "source": [
        "The goal of this coursework is to make you apply the concepts and general methods seen in class and understand the scalability of your code. This assignment requires you to upload a short Python source code and an essay/technical annex that describes i) your analysis of the problems described below, ii) your algorithmic solution and the Python code for it and iii) the scalability analysis of your code, tested against random instances of the problem. Work is organized in phases, as described below."
      ]
    },
    {
      "cell_type": "markdown",
      "metadata": {
        "id": "WZbeYdSUDa6p"
      },
      "source": [
        "#### Phase 1: MyHealthcare device: Vital signs simulator\n",
        "\n",
        "MyHealthcare device is a wearable device for collecting vital sign data. Develop a Python function to simulate the MyHealthcare device that generates data for “n” vital sign records (e.g. 1000, 2000 etc.) of a person. The data should be generated according to the rules as presented in the following table. Measures that are out of the normal range are considered abnormal e.g. for temperature normal values are: 37 and 38 and abnormal values are 36 and 39."
      ]
    },
    {
      "cell_type": "code",
      "metadata": {
        "collapsed": true,
        "colab": {
          "base_uri": "https://localhost:8080/",
          "height": 450
        },
        "id": "97_UoVIhDa6q",
        "outputId": "0ecdaebf-3516-4302-af16-312db467c02f"
      },
      "source": [
        "# Phase 1: MyHealthcare device: Vital Signs simulator\n",
        "\n",
        "import pandas as pd\n",
        "import numpy as np\n",
        "import random\n",
        "random.seed(404)\n",
        "\n",
        "\n",
        "n = 1000\n",
        "\n",
        "def myHealthcare():\n",
        "    random.seed(404)\n",
        "    \n",
        "    temp = np.random.randint(36, 40, size= n)  \n",
        "    hr = np.random.randint(55, 101, size = n)\n",
        "    pulse = np.random.randint(55, 101, size = n)\n",
        "    bloodpr = np.random.randint(120, 122, size = n)\n",
        "    resrate = np.random.randint(11, 18, size = n)\n",
        "    oxsat = np.random.randint(93, 101, size = n)\n",
        "    ph = np.random.uniform(7.1, 7.6, size = n)\n",
        "    \n",
        "    data = {'Temp': temp, 'hr':hr, 'pulse':pulse, 'bloodpr':bloodpr, 'resrate':resrate, 'oxsat':oxsat, 'ph':ph}\n",
        "    return data\n",
        "    \n",
        "# Data to use\n",
        "data = myHealthcare()\n",
        "\n",
        "# Data to use \n",
        "data1 = myHealthcare()\n",
        "\n",
        "df = pd.DataFrame(data)\n",
        "\n",
        "# Name the index ts\n",
        "df.index.name = 'ts' \n",
        "\n",
        "# Rounding the ph values to only one number after the decimal\n",
        "df.round(1)"
      ],
      "execution_count": null,
      "outputs": [
        {
          "output_type": "execute_result",
          "data": {
            "text/html": [
              "<div>\n",
              "<style scoped>\n",
              "    .dataframe tbody tr th:only-of-type {\n",
              "        vertical-align: middle;\n",
              "    }\n",
              "\n",
              "    .dataframe tbody tr th {\n",
              "        vertical-align: top;\n",
              "    }\n",
              "\n",
              "    .dataframe thead th {\n",
              "        text-align: right;\n",
              "    }\n",
              "</style>\n",
              "<table border=\"1\" class=\"dataframe\">\n",
              "  <thead>\n",
              "    <tr style=\"text-align: right;\">\n",
              "      <th></th>\n",
              "      <th>Temp</th>\n",
              "      <th>hr</th>\n",
              "      <th>pulse</th>\n",
              "      <th>bloodpr</th>\n",
              "      <th>resrate</th>\n",
              "      <th>oxsat</th>\n",
              "      <th>ph</th>\n",
              "    </tr>\n",
              "    <tr>\n",
              "      <th>ts</th>\n",
              "      <th></th>\n",
              "      <th></th>\n",
              "      <th></th>\n",
              "      <th></th>\n",
              "      <th></th>\n",
              "      <th></th>\n",
              "      <th></th>\n",
              "    </tr>\n",
              "  </thead>\n",
              "  <tbody>\n",
              "    <tr>\n",
              "      <th>0</th>\n",
              "      <td>36</td>\n",
              "      <td>55</td>\n",
              "      <td>68</td>\n",
              "      <td>121</td>\n",
              "      <td>17</td>\n",
              "      <td>95</td>\n",
              "      <td>7.5</td>\n",
              "    </tr>\n",
              "    <tr>\n",
              "      <th>1</th>\n",
              "      <td>38</td>\n",
              "      <td>98</td>\n",
              "      <td>97</td>\n",
              "      <td>120</td>\n",
              "      <td>15</td>\n",
              "      <td>99</td>\n",
              "      <td>7.1</td>\n",
              "    </tr>\n",
              "    <tr>\n",
              "      <th>2</th>\n",
              "      <td>37</td>\n",
              "      <td>63</td>\n",
              "      <td>67</td>\n",
              "      <td>121</td>\n",
              "      <td>17</td>\n",
              "      <td>100</td>\n",
              "      <td>7.1</td>\n",
              "    </tr>\n",
              "    <tr>\n",
              "      <th>3</th>\n",
              "      <td>38</td>\n",
              "      <td>97</td>\n",
              "      <td>83</td>\n",
              "      <td>120</td>\n",
              "      <td>17</td>\n",
              "      <td>97</td>\n",
              "      <td>7.5</td>\n",
              "    </tr>\n",
              "    <tr>\n",
              "      <th>4</th>\n",
              "      <td>36</td>\n",
              "      <td>73</td>\n",
              "      <td>94</td>\n",
              "      <td>121</td>\n",
              "      <td>17</td>\n",
              "      <td>100</td>\n",
              "      <td>7.6</td>\n",
              "    </tr>\n",
              "    <tr>\n",
              "      <th>...</th>\n",
              "      <td>...</td>\n",
              "      <td>...</td>\n",
              "      <td>...</td>\n",
              "      <td>...</td>\n",
              "      <td>...</td>\n",
              "      <td>...</td>\n",
              "      <td>...</td>\n",
              "    </tr>\n",
              "    <tr>\n",
              "      <th>995</th>\n",
              "      <td>37</td>\n",
              "      <td>77</td>\n",
              "      <td>90</td>\n",
              "      <td>120</td>\n",
              "      <td>12</td>\n",
              "      <td>100</td>\n",
              "      <td>7.4</td>\n",
              "    </tr>\n",
              "    <tr>\n",
              "      <th>996</th>\n",
              "      <td>36</td>\n",
              "      <td>67</td>\n",
              "      <td>70</td>\n",
              "      <td>121</td>\n",
              "      <td>14</td>\n",
              "      <td>97</td>\n",
              "      <td>7.4</td>\n",
              "    </tr>\n",
              "    <tr>\n",
              "      <th>997</th>\n",
              "      <td>37</td>\n",
              "      <td>67</td>\n",
              "      <td>68</td>\n",
              "      <td>121</td>\n",
              "      <td>12</td>\n",
              "      <td>93</td>\n",
              "      <td>7.3</td>\n",
              "    </tr>\n",
              "    <tr>\n",
              "      <th>998</th>\n",
              "      <td>38</td>\n",
              "      <td>72</td>\n",
              "      <td>90</td>\n",
              "      <td>120</td>\n",
              "      <td>14</td>\n",
              "      <td>100</td>\n",
              "      <td>7.3</td>\n",
              "    </tr>\n",
              "    <tr>\n",
              "      <th>999</th>\n",
              "      <td>37</td>\n",
              "      <td>71</td>\n",
              "      <td>60</td>\n",
              "      <td>120</td>\n",
              "      <td>13</td>\n",
              "      <td>95</td>\n",
              "      <td>7.3</td>\n",
              "    </tr>\n",
              "  </tbody>\n",
              "</table>\n",
              "<p>1000 rows × 7 columns</p>\n",
              "</div>"
            ],
            "text/plain": [
              "     Temp  hr  pulse  bloodpr  resrate  oxsat   ph\n",
              "ts                                                \n",
              "0      36  55     68      121       17     95  7.5\n",
              "1      38  98     97      120       15     99  7.1\n",
              "2      37  63     67      121       17    100  7.1\n",
              "3      38  97     83      120       17     97  7.5\n",
              "4      36  73     94      121       17    100  7.6\n",
              "..    ...  ..    ...      ...      ...    ...  ...\n",
              "995    37  77     90      120       12    100  7.4\n",
              "996    36  67     70      121       14     97  7.4\n",
              "997    37  67     68      121       12     93  7.3\n",
              "998    38  72     90      120       14    100  7.3\n",
              "999    37  71     60      120       13     95  7.3\n",
              "\n",
              "[1000 rows x 7 columns]"
            ]
          },
          "metadata": {
            "tags": []
          },
          "execution_count": 1
        }
      ]
    },
    {
      "cell_type": "code",
      "metadata": {
        "scrolled": true,
        "id": "5GSTwXQNDa6q"
      },
      "source": [
        "# Different ways to print out that dataset\n",
        "#data\n",
        "#df\n",
        "#df.head()\n",
        "#print(df.round(1))\n",
        "#df.round(1)\n",
        "#df.round(1).head\n",
        "#myHealthcare()\n",
        "#df.loc[:,'pulse'] # This only prints out the pulse column with ts\n",
        "#df['pulse'] # This only prints out the pulse column with ts\n",
        "#data1"
      ],
      "execution_count": null,
      "outputs": []
    },
    {
      "cell_type": "markdown",
      "metadata": {
        "id": "Sg7OgilZDa6r"
      },
      "source": [
        "#### Phase 2: Run analytics\n",
        "\n",
        "Develop a Python function for each of the following analytics:\n",
        "\n",
        "#####  a) Find abnormal values for pulse or blood pressure.\n",
        "Select a small sample e.g. 50 records and count the instances where a vital sign was out of the normal range for a selected value. Return selected values for each timestamp. Example output for pulse with 3 abnormal values could be [pulse, 3, [[105,56], [109,57], [125,59]]] or {“ abnormal_pulse_count”: 3, “abnormal_values”: [[105,56], [109,57], [125,59]]}, where [105,56] is [timestamp,value]. Feel free to create your own data structure.\n",
        "\n",
        "##### b) Present a frequency histogram of pulse rates.\n",
        "Select a small sample e.g. 50 records, find the frequency for pulse rate values. Example output could be: [[55,2],[56,6],[57,4],[59,12],…]\n",
        "\n",
        "##### c) Plot the results for 2a and 2b and briefly discuss your observations. What is the complexity of your algorithm?\n",
        "Notes: Present diagrams and discussions in the report. Name the functions as abnormalSignAnalytics(…), frequencyAnalytics(…)."
      ]
    },
    {
      "cell_type": "code",
      "metadata": {
        "scrolled": true,
        "colab": {
          "base_uri": "https://localhost:8080/"
        },
        "id": "7Us_SI02Da6r",
        "outputId": "056c7b10-47ab-4caa-a76d-cfe4577ec8a6"
      },
      "source": [
        "#Phase 2: Run analytics\n",
        "\n",
        "# a)Find abnormal value for Blood Pressure, abnormal value =121, normal value = 120\n",
        "## SOLUTION 1: Using Linear Search\n",
        "\n",
        "# Define abnormalSignanalytics() function using Linear Search Algorithm\n",
        "def abnormalSignAnalytics():\n",
        "    # select sample size of 50\n",
        "    n = 50\n",
        "    random.seed(404)\n",
        "    # Initializing variables, abnormalbloodpr_list_ts will contain the timestamp list\n",
        "    abnormalbloodpr_list_ts = []\n",
        "    abnormalbloodpr_list = []\n",
        "    bloodPressureList = data.get('bloodpr')\n",
        "    for i in range (n):\n",
        "        if bloodPressureList[i] == 121:\n",
        "            abnormalbloodpr_list_ts.append(i)\n",
        "    for ts in abnormalbloodpr_list_ts:\n",
        "        abnormalbloodpr_list.append(bloodPressureList[ts])   \n",
        "    # results_tuples will return a tuple of the abnormal values accompanied by their associated timestamp \n",
        "    # in the format (ts, abnormal result of 21) using list comprehension\n",
        "    results_tuples = [x for x in zip(abnormalbloodpr_list_ts, abnormalbloodpr_list)]\n",
        "    \n",
        "    # Using dictionary comprehension to return the final result in the format requested\n",
        "    return {'abnormal_blood_pressure_count': len(abnormalbloodpr_list_ts),'abnormal_values': results_tuples}\n",
        "abnormalSignAnalytics()\n",
        "\n",
        "# Calculating the runtime of the abnormalSignAnalytics() function \n",
        "%timeit abnormalSignAnalytics()"
      ],
      "execution_count": null,
      "outputs": [
        {
          "output_type": "stream",
          "text": [
            "10000 loops, best of 3: 31 µs per loop\n"
          ],
          "name": "stdout"
        }
      ]
    },
    {
      "cell_type": "code",
      "metadata": {
        "scrolled": false,
        "colab": {
          "base_uri": "https://localhost:8080/"
        },
        "id": "o65WNxb_Da6s",
        "outputId": "9161c108-59de-47a2-d449-f04068445b95"
      },
      "source": [
        "abnormalSignAnalytics()"
      ],
      "execution_count": null,
      "outputs": [
        {
          "output_type": "execute_result",
          "data": {
            "text/plain": [
              "{'abnormal_blood_pressure_count': 24,\n",
              " 'abnormal_values': [(0, 121),\n",
              "  (2, 121),\n",
              "  (4, 121),\n",
              "  (5, 121),\n",
              "  (7, 121),\n",
              "  (10, 121),\n",
              "  (14, 121),\n",
              "  (16, 121),\n",
              "  (17, 121),\n",
              "  (18, 121),\n",
              "  (23, 121),\n",
              "  (24, 121),\n",
              "  (26, 121),\n",
              "  (27, 121),\n",
              "  (31, 121),\n",
              "  (32, 121),\n",
              "  (33, 121),\n",
              "  (34, 121),\n",
              "  (35, 121),\n",
              "  (40, 121),\n",
              "  (41, 121),\n",
              "  (45, 121),\n",
              "  (46, 121),\n",
              "  (49, 121)]}"
            ]
          },
          "metadata": {
            "tags": []
          },
          "execution_count": 3
        }
      ]
    },
    {
      "cell_type": "code",
      "metadata": {
        "colab": {
          "base_uri": "https://localhost:8080/",
          "height": 450
        },
        "id": "TQGyXrS2Da6s",
        "outputId": "e1df4140-dddf-4959-b151-ed4420480a8f"
      },
      "source": [
        "#Phase 2: Run analytics\n",
        "\n",
        "# a)Find abnormal value for Blood Pressure, abnormal value =121, normal value = 120\n",
        "## SOLUTION 2: Filtering out the value 121 from the bloodpr colum in the dataframe data/ df.round(1), \n",
        "# using indexing for filtering (python in-build)\n",
        "\n",
        "data= myHealthcare()\n",
        "def abnormalSignAnalytics2():\n",
        "    random.seed(404)\n",
        "    for i in range (50):\n",
        "        data = df.round(1)\n",
        "        results = data[data['bloodpr']==121]\n",
        "        return results\n",
        "abnormalSignAnalytics2()"
      ],
      "execution_count": null,
      "outputs": [
        {
          "output_type": "execute_result",
          "data": {
            "text/html": [
              "<div>\n",
              "<style scoped>\n",
              "    .dataframe tbody tr th:only-of-type {\n",
              "        vertical-align: middle;\n",
              "    }\n",
              "\n",
              "    .dataframe tbody tr th {\n",
              "        vertical-align: top;\n",
              "    }\n",
              "\n",
              "    .dataframe thead th {\n",
              "        text-align: right;\n",
              "    }\n",
              "</style>\n",
              "<table border=\"1\" class=\"dataframe\">\n",
              "  <thead>\n",
              "    <tr style=\"text-align: right;\">\n",
              "      <th></th>\n",
              "      <th>Temp</th>\n",
              "      <th>hr</th>\n",
              "      <th>pulse</th>\n",
              "      <th>bloodpr</th>\n",
              "      <th>resrate</th>\n",
              "      <th>oxsat</th>\n",
              "      <th>ph</th>\n",
              "    </tr>\n",
              "    <tr>\n",
              "      <th>ts</th>\n",
              "      <th></th>\n",
              "      <th></th>\n",
              "      <th></th>\n",
              "      <th></th>\n",
              "      <th></th>\n",
              "      <th></th>\n",
              "      <th></th>\n",
              "    </tr>\n",
              "  </thead>\n",
              "  <tbody>\n",
              "    <tr>\n",
              "      <th>0</th>\n",
              "      <td>36</td>\n",
              "      <td>55</td>\n",
              "      <td>68</td>\n",
              "      <td>121</td>\n",
              "      <td>17</td>\n",
              "      <td>95</td>\n",
              "      <td>7.5</td>\n",
              "    </tr>\n",
              "    <tr>\n",
              "      <th>2</th>\n",
              "      <td>37</td>\n",
              "      <td>63</td>\n",
              "      <td>67</td>\n",
              "      <td>121</td>\n",
              "      <td>17</td>\n",
              "      <td>100</td>\n",
              "      <td>7.1</td>\n",
              "    </tr>\n",
              "    <tr>\n",
              "      <th>4</th>\n",
              "      <td>36</td>\n",
              "      <td>73</td>\n",
              "      <td>94</td>\n",
              "      <td>121</td>\n",
              "      <td>17</td>\n",
              "      <td>100</td>\n",
              "      <td>7.6</td>\n",
              "    </tr>\n",
              "    <tr>\n",
              "      <th>5</th>\n",
              "      <td>36</td>\n",
              "      <td>98</td>\n",
              "      <td>80</td>\n",
              "      <td>121</td>\n",
              "      <td>11</td>\n",
              "      <td>96</td>\n",
              "      <td>7.1</td>\n",
              "    </tr>\n",
              "    <tr>\n",
              "      <th>7</th>\n",
              "      <td>37</td>\n",
              "      <td>91</td>\n",
              "      <td>82</td>\n",
              "      <td>121</td>\n",
              "      <td>15</td>\n",
              "      <td>95</td>\n",
              "      <td>7.2</td>\n",
              "    </tr>\n",
              "    <tr>\n",
              "      <th>...</th>\n",
              "      <td>...</td>\n",
              "      <td>...</td>\n",
              "      <td>...</td>\n",
              "      <td>...</td>\n",
              "      <td>...</td>\n",
              "      <td>...</td>\n",
              "      <td>...</td>\n",
              "    </tr>\n",
              "    <tr>\n",
              "      <th>990</th>\n",
              "      <td>39</td>\n",
              "      <td>57</td>\n",
              "      <td>66</td>\n",
              "      <td>121</td>\n",
              "      <td>16</td>\n",
              "      <td>94</td>\n",
              "      <td>7.5</td>\n",
              "    </tr>\n",
              "    <tr>\n",
              "      <th>993</th>\n",
              "      <td>38</td>\n",
              "      <td>75</td>\n",
              "      <td>84</td>\n",
              "      <td>121</td>\n",
              "      <td>15</td>\n",
              "      <td>95</td>\n",
              "      <td>7.4</td>\n",
              "    </tr>\n",
              "    <tr>\n",
              "      <th>994</th>\n",
              "      <td>36</td>\n",
              "      <td>70</td>\n",
              "      <td>67</td>\n",
              "      <td>121</td>\n",
              "      <td>12</td>\n",
              "      <td>94</td>\n",
              "      <td>7.5</td>\n",
              "    </tr>\n",
              "    <tr>\n",
              "      <th>996</th>\n",
              "      <td>36</td>\n",
              "      <td>67</td>\n",
              "      <td>70</td>\n",
              "      <td>121</td>\n",
              "      <td>14</td>\n",
              "      <td>97</td>\n",
              "      <td>7.4</td>\n",
              "    </tr>\n",
              "    <tr>\n",
              "      <th>997</th>\n",
              "      <td>37</td>\n",
              "      <td>67</td>\n",
              "      <td>68</td>\n",
              "      <td>121</td>\n",
              "      <td>12</td>\n",
              "      <td>93</td>\n",
              "      <td>7.3</td>\n",
              "    </tr>\n",
              "  </tbody>\n",
              "</table>\n",
              "<p>484 rows × 7 columns</p>\n",
              "</div>"
            ],
            "text/plain": [
              "     Temp  hr  pulse  bloodpr  resrate  oxsat   ph\n",
              "ts                                                \n",
              "0      36  55     68      121       17     95  7.5\n",
              "2      37  63     67      121       17    100  7.1\n",
              "4      36  73     94      121       17    100  7.6\n",
              "5      36  98     80      121       11     96  7.1\n",
              "7      37  91     82      121       15     95  7.2\n",
              "..    ...  ..    ...      ...      ...    ...  ...\n",
              "990    39  57     66      121       16     94  7.5\n",
              "993    38  75     84      121       15     95  7.4\n",
              "994    36  70     67      121       12     94  7.5\n",
              "996    36  67     70      121       14     97  7.4\n",
              "997    37  67     68      121       12     93  7.3\n",
              "\n",
              "[484 rows x 7 columns]"
            ]
          },
          "metadata": {
            "tags": []
          },
          "execution_count": 4
        }
      ]
    },
    {
      "cell_type": "code",
      "metadata": {
        "scrolled": true,
        "colab": {
          "base_uri": "https://localhost:8080/"
        },
        "id": "gYx_QiShDa6t",
        "outputId": "10c93a6e-abd5-4e3f-b7a1-50f57c3514bf"
      },
      "source": [
        "%timeit abnormalSignAnalytics2()"
      ],
      "execution_count": null,
      "outputs": [
        {
          "output_type": "stream",
          "text": [
            "The slowest run took 4.22 times longer than the fastest. This could mean that an intermediate result is being cached.\n",
            "100 loops, best of 3: 2.17 ms per loop\n"
          ],
          "name": "stdout"
        }
      ]
    },
    {
      "cell_type": "code",
      "metadata": {
        "scrolled": true,
        "colab": {
          "base_uri": "https://localhost:8080/"
        },
        "id": "JFjrM-IEDa6t",
        "outputId": "701f6215-0721-493d-ceda-9f8077a44f77"
      },
      "source": [
        "## Phase 2: Run Analytics\n",
        "\n",
        "# b)Present frequency histogram of pulse rates.\n",
        "# SOLUTION 1: Linear Search for frequencyAnalytics() function\n",
        "import collections\n",
        "\n",
        "data = df.round(1)\n",
        "n = 50\n",
        "\n",
        "def frequencyAnalytics():\n",
        "    random.seed(404)\n",
        "    pulse = data.get('pulse')\n",
        "    pulseFrequency = collections.Counter(pulse)\n",
        "    for i in range(n):\n",
        "        return pulseFrequency\n",
        "    \n",
        "frequencyAnalytics()"
      ],
      "execution_count": null,
      "outputs": [
        {
          "output_type": "execute_result",
          "data": {
            "text/plain": [
              "Counter({55: 27,\n",
              "         56: 16,\n",
              "         57: 26,\n",
              "         58: 17,\n",
              "         59: 20,\n",
              "         60: 20,\n",
              "         61: 36,\n",
              "         62: 22,\n",
              "         63: 15,\n",
              "         64: 26,\n",
              "         65: 27,\n",
              "         66: 25,\n",
              "         67: 24,\n",
              "         68: 21,\n",
              "         69: 23,\n",
              "         70: 22,\n",
              "         71: 19,\n",
              "         72: 22,\n",
              "         73: 16,\n",
              "         74: 18,\n",
              "         75: 23,\n",
              "         76: 20,\n",
              "         77: 23,\n",
              "         78: 26,\n",
              "         79: 32,\n",
              "         80: 21,\n",
              "         81: 29,\n",
              "         82: 28,\n",
              "         83: 23,\n",
              "         84: 23,\n",
              "         85: 17,\n",
              "         86: 18,\n",
              "         87: 13,\n",
              "         88: 19,\n",
              "         89: 13,\n",
              "         90: 21,\n",
              "         91: 21,\n",
              "         92: 16,\n",
              "         93: 22,\n",
              "         94: 34,\n",
              "         95: 16,\n",
              "         96: 22,\n",
              "         97: 20,\n",
              "         98: 24,\n",
              "         99: 17,\n",
              "         100: 17})"
            ]
          },
          "metadata": {
            "tags": []
          },
          "execution_count": 6
        }
      ]
    },
    {
      "cell_type": "code",
      "metadata": {
        "id": "9LeQV5mtDa6t",
        "outputId": "f505f7be-9d58-42e4-af19-6ed0117850f8"
      },
      "source": [
        "%timeit frequencyAnalytics()"
      ],
      "execution_count": null,
      "outputs": [
        {
          "output_type": "stream",
          "text": [
            "138 µs ± 6.89 µs per loop (mean ± std. dev. of 7 runs, 10000 loops each)\n"
          ],
          "name": "stdout"
        }
      ]
    },
    {
      "cell_type": "code",
      "metadata": {
        "scrolled": false,
        "colab": {
          "base_uri": "https://localhost:8080/"
        },
        "id": "PlVwF1nZDa61",
        "outputId": "86a5c474-e9ea-4764-d486-0fdebc33c4e4"
      },
      "source": [
        "## Phase 2: Run Analytics\n",
        "\n",
        "# b)Present frequency histogram of pulse rates.\n",
        "# SOLUTION 2: Using in-build python function\n",
        "data = df.round(1)\n",
        "data = data.get('pulse')\n",
        "def frequencyAnalytics2():\n",
        "    return data.sample(n=50)   \n",
        "frequencyAnalytics2()\n"
      ],
      "execution_count": null,
      "outputs": [
        {
          "output_type": "execute_result",
          "data": {
            "text/plain": [
              "ts\n",
              "532    93\n",
              "89     83\n",
              "19     76\n",
              "407    76\n",
              "594    64\n",
              "766    79\n",
              "181    66\n",
              "44     75\n",
              "572    94\n",
              "917    70\n",
              "949    70\n",
              "447    73\n",
              "802    94\n",
              "629    73\n",
              "40     77\n",
              "425    78\n",
              "92     82\n",
              "960    79\n",
              "399    71\n",
              "94     98\n",
              "844    60\n",
              "155    60\n",
              "862    66\n",
              "458    82\n",
              "921    85\n",
              "755    59\n",
              "718    89\n",
              "365    82\n",
              "466    57\n",
              "68     56\n",
              "613    97\n",
              "528    61\n",
              "294    68\n",
              "883    82\n",
              "959    55\n",
              "107    85\n",
              "117    75\n",
              "525    79\n",
              "571    59\n",
              "202    85\n",
              "314    76\n",
              "714    62\n",
              "743    61\n",
              "236    65\n",
              "276    95\n",
              "559    57\n",
              "587    64\n",
              "988    61\n",
              "422    66\n",
              "223    76\n",
              "Name: pulse, dtype: int64"
            ]
          },
          "metadata": {
            "tags": []
          },
          "execution_count": 7
        }
      ]
    },
    {
      "cell_type": "code",
      "metadata": {
        "scrolled": true,
        "colab": {
          "base_uri": "https://localhost:8080/"
        },
        "id": "zNW2UmSfDa62",
        "outputId": "55dd9155-3d65-4ede-f958-5bd6ad1aa56b"
      },
      "source": [
        "%timeit frequencyAnalytics2()"
      ],
      "execution_count": null,
      "outputs": [
        {
          "output_type": "stream",
          "text": [
            "The slowest run took 10.27 times longer than the fastest. This could mean that an intermediate result is being cached.\n",
            "10000 loops, best of 3: 90.5 µs per loop\n"
          ],
          "name": "stdout"
        }
      ]
    },
    {
      "cell_type": "code",
      "metadata": {
        "collapsed": true,
        "id": "YgvAGgq6Da64",
        "outputId": "316a5471-8fee-47f6-acc6-19c945dff837"
      },
      "source": [
        "## Phase 2: Run Analytics\n",
        "# c) Plot results for 2a and 2b\n",
        "import matplotlib.pyplot as plt\n",
        "\n",
        "# Plot for 2a: abnormalAnalytics() and abnormalAnalytics2() functions\n",
        "a_plot = abnormalSignAnalytics()\n",
        "pd.DataFrame(a_plot, columns= ['pulse']).plot.hist(bins= 10)\n",
        "plt.show()"
      ],
      "execution_count": null,
      "outputs": [
        {
          "output_type": "error",
          "ename": "TypeError",
          "evalue": "'NoneType' object is not subscriptable",
          "traceback": [
            "\u001b[0;31m---------------------------------------------------------------------------\u001b[0m",
            "\u001b[0;31mTypeError\u001b[0m                                 Traceback (most recent call last)",
            "\u001b[0;32m<ipython-input-26-8f327b258b2b>\u001b[0m in \u001b[0;36m<module>\u001b[0;34m\u001b[0m\n\u001b[1;32m      4\u001b[0m \u001b[0;34m\u001b[0m\u001b[0m\n\u001b[1;32m      5\u001b[0m \u001b[0;31m# Plot for 2a: abnormalAnalytics() and abnormalAnalytics2() functions\u001b[0m\u001b[0;34m\u001b[0m\u001b[0;34m\u001b[0m\u001b[0m\n\u001b[0;32m----> 6\u001b[0;31m \u001b[0ma_plot\u001b[0m \u001b[0;34m=\u001b[0m \u001b[0mabnormalSignAnalytics\u001b[0m\u001b[0;34m(\u001b[0m\u001b[0;34m)\u001b[0m\u001b[0;34m\u001b[0m\u001b[0m\n\u001b[0m\u001b[1;32m      7\u001b[0m \u001b[0mpd\u001b[0m\u001b[0;34m.\u001b[0m\u001b[0mDataFrame\u001b[0m\u001b[0;34m(\u001b[0m\u001b[0ma_plot\u001b[0m\u001b[0;34m,\u001b[0m \u001b[0mcolumns\u001b[0m\u001b[0;34m=\u001b[0m \u001b[0;34m[\u001b[0m\u001b[0;34m'pulse'\u001b[0m\u001b[0;34m]\u001b[0m\u001b[0;34m)\u001b[0m\u001b[0;34m.\u001b[0m\u001b[0mplot\u001b[0m\u001b[0;34m.\u001b[0m\u001b[0mhist\u001b[0m\u001b[0;34m(\u001b[0m\u001b[0mbins\u001b[0m\u001b[0;34m=\u001b[0m \u001b[0;36m10\u001b[0m\u001b[0;34m)\u001b[0m\u001b[0;34m\u001b[0m\u001b[0m\n\u001b[1;32m      8\u001b[0m \u001b[0mplt\u001b[0m\u001b[0;34m.\u001b[0m\u001b[0mshow\u001b[0m\u001b[0;34m(\u001b[0m\u001b[0;34m)\u001b[0m\u001b[0;34m\u001b[0m\u001b[0m\n",
            "\u001b[0;32m<ipython-input-9-72feac8280d8>\u001b[0m in \u001b[0;36mabnormalSignAnalytics\u001b[0;34m()\u001b[0m\n\u001b[1;32m     14\u001b[0m     \u001b[0mbloodPressureList\u001b[0m \u001b[0;34m=\u001b[0m \u001b[0mdata\u001b[0m\u001b[0;34m.\u001b[0m\u001b[0mget\u001b[0m\u001b[0;34m(\u001b[0m\u001b[0;34m'bloodpr'\u001b[0m\u001b[0;34m)\u001b[0m\u001b[0;34m\u001b[0m\u001b[0m\n\u001b[1;32m     15\u001b[0m     \u001b[0;32mfor\u001b[0m \u001b[0mi\u001b[0m \u001b[0;32min\u001b[0m \u001b[0mrange\u001b[0m \u001b[0;34m(\u001b[0m\u001b[0mn\u001b[0m\u001b[0;34m)\u001b[0m\u001b[0;34m:\u001b[0m\u001b[0;34m\u001b[0m\u001b[0m\n\u001b[0;32m---> 16\u001b[0;31m         \u001b[0;32mif\u001b[0m \u001b[0mbloodPressureList\u001b[0m\u001b[0;34m[\u001b[0m\u001b[0mi\u001b[0m\u001b[0;34m]\u001b[0m \u001b[0;34m==\u001b[0m \u001b[0;36m121\u001b[0m\u001b[0;34m:\u001b[0m\u001b[0;34m\u001b[0m\u001b[0m\n\u001b[0m\u001b[1;32m     17\u001b[0m             \u001b[0mabnormalbloodpr_list_ts\u001b[0m\u001b[0;34m.\u001b[0m\u001b[0mappend\u001b[0m\u001b[0;34m(\u001b[0m\u001b[0mi\u001b[0m\u001b[0;34m)\u001b[0m\u001b[0;34m\u001b[0m\u001b[0m\n\u001b[1;32m     18\u001b[0m     \u001b[0;32mfor\u001b[0m \u001b[0mts\u001b[0m \u001b[0;32min\u001b[0m \u001b[0mabnormalbloodpr_list_ts\u001b[0m\u001b[0;34m:\u001b[0m\u001b[0;34m\u001b[0m\u001b[0m\n",
            "\u001b[0;31mTypeError\u001b[0m: 'NoneType' object is not subscriptable"
          ]
        }
      ]
    },
    {
      "cell_type": "code",
      "metadata": {
        "collapsed": true,
        "id": "BZEEvqGzDa64",
        "outputId": "a2998f1c-de4e-4b20-d89c-13b8ba193686"
      },
      "source": [
        "a_plot2 = abnormalSignAnalytics2()\n",
        "pd.DataFrame(a_plot2, columns= ['pulse']).plot.hist(bins= 45, title = 'Histogram of Pulses for heart rate of 121 for abnormalSignAnalytics2()')\n",
        "plt.show()"
      ],
      "execution_count": null,
      "outputs": [
        {
          "output_type": "display_data",
          "data": {
            "image/png": "[encoded data removed]",
            "text/plain": [
              "<Figure size 432x288 with 1 Axes>"
            ]
          },
          "metadata": {
            "tags": [],
            "needs_background": "light"
          }
        }
      ]
    },
    {
      "cell_type": "code",
      "metadata": {
        "collapsed": true,
        "id": "s9eIEWAXDa65",
        "outputId": "7a850bd6-7fe8-4ad6-fdda-fb36810059ad"
      },
      "source": [
        "# Plot for 2b: frequencyAnalytics() function\n",
        "a_freq = frequencyAnalytics()\n",
        "pd.DataFrame(a_freq, columns= ['bloodpr', 'temp']).plot.hist(bins= 10)\n",
        "plt.show()"
      ],
      "execution_count": null,
      "outputs": [
        {
          "output_type": "error",
          "ename": "TypeError",
          "evalue": "Empty 'DataFrame': no numeric data to plot",
          "traceback": [
            "\u001b[0;31m---------------------------------------------------------------------------\u001b[0m",
            "\u001b[0;31mTypeError\u001b[0m                                 Traceback (most recent call last)",
            "\u001b[0;32m<ipython-input-25-83517bf51c22>\u001b[0m in \u001b[0;36m<module>\u001b[0;34m\u001b[0m\n\u001b[1;32m      1\u001b[0m \u001b[0;31m# Plot for 2b: frequencyAnalytics() function\u001b[0m\u001b[0;34m\u001b[0m\u001b[0;34m\u001b[0m\u001b[0m\n\u001b[1;32m      2\u001b[0m \u001b[0ma_freq\u001b[0m \u001b[0;34m=\u001b[0m \u001b[0mfrequencyAnalytics\u001b[0m\u001b[0;34m(\u001b[0m\u001b[0;34m)\u001b[0m\u001b[0;34m\u001b[0m\u001b[0m\n\u001b[0;32m----> 3\u001b[0;31m \u001b[0mpd\u001b[0m\u001b[0;34m.\u001b[0m\u001b[0mDataFrame\u001b[0m\u001b[0;34m(\u001b[0m\u001b[0ma_freq\u001b[0m\u001b[0;34m,\u001b[0m \u001b[0mcolumns\u001b[0m\u001b[0;34m=\u001b[0m \u001b[0;34m[\u001b[0m\u001b[0;34m'bloodpr'\u001b[0m\u001b[0;34m,\u001b[0m \u001b[0;34m'temp'\u001b[0m\u001b[0;34m]\u001b[0m\u001b[0;34m)\u001b[0m\u001b[0;34m.\u001b[0m\u001b[0mplot\u001b[0m\u001b[0;34m.\u001b[0m\u001b[0mhist\u001b[0m\u001b[0;34m(\u001b[0m\u001b[0mbins\u001b[0m\u001b[0;34m=\u001b[0m \u001b[0;36m10\u001b[0m\u001b[0;34m)\u001b[0m\u001b[0;34m\u001b[0m\u001b[0m\n\u001b[0m\u001b[1;32m      4\u001b[0m \u001b[0mplt\u001b[0m\u001b[0;34m.\u001b[0m\u001b[0mshow\u001b[0m\u001b[0;34m(\u001b[0m\u001b[0;34m)\u001b[0m\u001b[0;34m\u001b[0m\u001b[0m\n",
            "\u001b[0;32m/anaconda3/lib/python3.7/site-packages/pandas/plotting/_core.py\u001b[0m in \u001b[0;36mhist\u001b[0;34m(self, by, bins, **kwds)\u001b[0m\n\u001b[1;32m   3265\u001b[0m             \u001b[0;34m>>\u001b[0m\u001b[0;34m>\u001b[0m \u001b[0max\u001b[0m \u001b[0;34m=\u001b[0m \u001b[0mdf\u001b[0m\u001b[0;34m.\u001b[0m\u001b[0mplot\u001b[0m\u001b[0;34m.\u001b[0m\u001b[0mhist\u001b[0m\u001b[0;34m(\u001b[0m\u001b[0mbins\u001b[0m\u001b[0;34m=\u001b[0m\u001b[0;36m12\u001b[0m\u001b[0;34m,\u001b[0m \u001b[0malpha\u001b[0m\u001b[0;34m=\u001b[0m\u001b[0;36m0.5\u001b[0m\u001b[0;34m)\u001b[0m\u001b[0;34m\u001b[0m\u001b[0m\n\u001b[1;32m   3266\u001b[0m         \"\"\"\n\u001b[0;32m-> 3267\u001b[0;31m         \u001b[0;32mreturn\u001b[0m \u001b[0mself\u001b[0m\u001b[0;34m(\u001b[0m\u001b[0mkind\u001b[0m\u001b[0;34m=\u001b[0m\u001b[0;34m'hist'\u001b[0m\u001b[0;34m,\u001b[0m \u001b[0mby\u001b[0m\u001b[0;34m=\u001b[0m\u001b[0mby\u001b[0m\u001b[0;34m,\u001b[0m \u001b[0mbins\u001b[0m\u001b[0;34m=\u001b[0m\u001b[0mbins\u001b[0m\u001b[0;34m,\u001b[0m \u001b[0;34m**\u001b[0m\u001b[0mkwds\u001b[0m\u001b[0;34m)\u001b[0m\u001b[0;34m\u001b[0m\u001b[0m\n\u001b[0m\u001b[1;32m   3268\u001b[0m \u001b[0;34m\u001b[0m\u001b[0m\n\u001b[1;32m   3269\u001b[0m     @Appender(_kde_docstring % {\n",
            "\u001b[0;32m/anaconda3/lib/python3.7/site-packages/pandas/plotting/_core.py\u001b[0m in \u001b[0;36m__call__\u001b[0;34m(self, x, y, kind, ax, subplots, sharex, sharey, layout, figsize, use_index, title, grid, legend, style, logx, logy, loglog, xticks, yticks, xlim, ylim, rot, fontsize, colormap, table, yerr, xerr, secondary_y, sort_columns, **kwds)\u001b[0m\n\u001b[1;32m   2940\u001b[0m                           \u001b[0mfontsize\u001b[0m\u001b[0;34m=\u001b[0m\u001b[0mfontsize\u001b[0m\u001b[0;34m,\u001b[0m \u001b[0mcolormap\u001b[0m\u001b[0;34m=\u001b[0m\u001b[0mcolormap\u001b[0m\u001b[0;34m,\u001b[0m \u001b[0mtable\u001b[0m\u001b[0;34m=\u001b[0m\u001b[0mtable\u001b[0m\u001b[0;34m,\u001b[0m\u001b[0;34m\u001b[0m\u001b[0m\n\u001b[1;32m   2941\u001b[0m                           \u001b[0myerr\u001b[0m\u001b[0;34m=\u001b[0m\u001b[0myerr\u001b[0m\u001b[0;34m,\u001b[0m \u001b[0mxerr\u001b[0m\u001b[0;34m=\u001b[0m\u001b[0mxerr\u001b[0m\u001b[0;34m,\u001b[0m \u001b[0msecondary_y\u001b[0m\u001b[0;34m=\u001b[0m\u001b[0msecondary_y\u001b[0m\u001b[0;34m,\u001b[0m\u001b[0;34m\u001b[0m\u001b[0m\n\u001b[0;32m-> 2942\u001b[0;31m                           sort_columns=sort_columns, **kwds)\n\u001b[0m\u001b[1;32m   2943\u001b[0m     \u001b[0m__call__\u001b[0m\u001b[0;34m.\u001b[0m\u001b[0m__doc__\u001b[0m \u001b[0;34m=\u001b[0m \u001b[0mplot_frame\u001b[0m\u001b[0;34m.\u001b[0m\u001b[0m__doc__\u001b[0m\u001b[0;34m\u001b[0m\u001b[0m\n\u001b[1;32m   2944\u001b[0m \u001b[0;34m\u001b[0m\u001b[0m\n",
            "\u001b[0;32m/anaconda3/lib/python3.7/site-packages/pandas/plotting/_core.py\u001b[0m in \u001b[0;36mplot_frame\u001b[0;34m(data, x, y, kind, ax, subplots, sharex, sharey, layout, figsize, use_index, title, grid, legend, style, logx, logy, loglog, xticks, yticks, xlim, ylim, rot, fontsize, colormap, table, yerr, xerr, secondary_y, sort_columns, **kwds)\u001b[0m\n\u001b[1;32m   1971\u001b[0m                  \u001b[0myerr\u001b[0m\u001b[0;34m=\u001b[0m\u001b[0myerr\u001b[0m\u001b[0;34m,\u001b[0m \u001b[0mxerr\u001b[0m\u001b[0;34m=\u001b[0m\u001b[0mxerr\u001b[0m\u001b[0;34m,\u001b[0m\u001b[0;34m\u001b[0m\u001b[0m\n\u001b[1;32m   1972\u001b[0m                  \u001b[0msecondary_y\u001b[0m\u001b[0;34m=\u001b[0m\u001b[0msecondary_y\u001b[0m\u001b[0;34m,\u001b[0m \u001b[0msort_columns\u001b[0m\u001b[0;34m=\u001b[0m\u001b[0msort_columns\u001b[0m\u001b[0;34m,\u001b[0m\u001b[0;34m\u001b[0m\u001b[0m\n\u001b[0;32m-> 1973\u001b[0;31m                  **kwds)\n\u001b[0m\u001b[1;32m   1974\u001b[0m \u001b[0;34m\u001b[0m\u001b[0m\n\u001b[1;32m   1975\u001b[0m \u001b[0;34m\u001b[0m\u001b[0m\n",
            "\u001b[0;32m/anaconda3/lib/python3.7/site-packages/pandas/plotting/_core.py\u001b[0m in \u001b[0;36m_plot\u001b[0;34m(data, x, y, subplots, ax, kind, **kwds)\u001b[0m\n\u001b[1;32m   1799\u001b[0m         \u001b[0mplot_obj\u001b[0m \u001b[0;34m=\u001b[0m \u001b[0mklass\u001b[0m\u001b[0;34m(\u001b[0m\u001b[0mdata\u001b[0m\u001b[0;34m,\u001b[0m \u001b[0msubplots\u001b[0m\u001b[0;34m=\u001b[0m\u001b[0msubplots\u001b[0m\u001b[0;34m,\u001b[0m \u001b[0max\u001b[0m\u001b[0;34m=\u001b[0m\u001b[0max\u001b[0m\u001b[0;34m,\u001b[0m \u001b[0mkind\u001b[0m\u001b[0;34m=\u001b[0m\u001b[0mkind\u001b[0m\u001b[0;34m,\u001b[0m \u001b[0;34m**\u001b[0m\u001b[0mkwds\u001b[0m\u001b[0;34m)\u001b[0m\u001b[0;34m\u001b[0m\u001b[0m\n\u001b[1;32m   1800\u001b[0m \u001b[0;34m\u001b[0m\u001b[0m\n\u001b[0;32m-> 1801\u001b[0;31m     \u001b[0mplot_obj\u001b[0m\u001b[0;34m.\u001b[0m\u001b[0mgenerate\u001b[0m\u001b[0;34m(\u001b[0m\u001b[0;34m)\u001b[0m\u001b[0;34m\u001b[0m\u001b[0m\n\u001b[0m\u001b[1;32m   1802\u001b[0m     \u001b[0mplot_obj\u001b[0m\u001b[0;34m.\u001b[0m\u001b[0mdraw\u001b[0m\u001b[0;34m(\u001b[0m\u001b[0;34m)\u001b[0m\u001b[0;34m\u001b[0m\u001b[0m\n\u001b[1;32m   1803\u001b[0m     \u001b[0;32mreturn\u001b[0m \u001b[0mplot_obj\u001b[0m\u001b[0;34m.\u001b[0m\u001b[0mresult\u001b[0m\u001b[0;34m\u001b[0m\u001b[0m\n",
            "\u001b[0;32m/anaconda3/lib/python3.7/site-packages/pandas/plotting/_core.py\u001b[0m in \u001b[0;36mgenerate\u001b[0;34m(self)\u001b[0m\n\u001b[1;32m    247\u001b[0m     \u001b[0;32mdef\u001b[0m \u001b[0mgenerate\u001b[0m\u001b[0;34m(\u001b[0m\u001b[0mself\u001b[0m\u001b[0;34m)\u001b[0m\u001b[0;34m:\u001b[0m\u001b[0;34m\u001b[0m\u001b[0m\n\u001b[1;32m    248\u001b[0m         \u001b[0mself\u001b[0m\u001b[0;34m.\u001b[0m\u001b[0m_args_adjust\u001b[0m\u001b[0;34m(\u001b[0m\u001b[0;34m)\u001b[0m\u001b[0;34m\u001b[0m\u001b[0m\n\u001b[0;32m--> 249\u001b[0;31m         \u001b[0mself\u001b[0m\u001b[0;34m.\u001b[0m\u001b[0m_compute_plot_data\u001b[0m\u001b[0;34m(\u001b[0m\u001b[0;34m)\u001b[0m\u001b[0;34m\u001b[0m\u001b[0m\n\u001b[0m\u001b[1;32m    250\u001b[0m         \u001b[0mself\u001b[0m\u001b[0;34m.\u001b[0m\u001b[0m_setup_subplots\u001b[0m\u001b[0;34m(\u001b[0m\u001b[0;34m)\u001b[0m\u001b[0;34m\u001b[0m\u001b[0m\n\u001b[1;32m    251\u001b[0m         \u001b[0mself\u001b[0m\u001b[0;34m.\u001b[0m\u001b[0m_make_plot\u001b[0m\u001b[0;34m(\u001b[0m\u001b[0;34m)\u001b[0m\u001b[0;34m\u001b[0m\u001b[0m\n",
            "\u001b[0;32m/anaconda3/lib/python3.7/site-packages/pandas/plotting/_core.py\u001b[0m in \u001b[0;36m_compute_plot_data\u001b[0;34m(self)\u001b[0m\n\u001b[1;32m    365\u001b[0m         \u001b[0;32mif\u001b[0m \u001b[0mis_empty\u001b[0m\u001b[0;34m:\u001b[0m\u001b[0;34m\u001b[0m\u001b[0m\n\u001b[1;32m    366\u001b[0m             raise TypeError('Empty {0!r}: no numeric data to '\n\u001b[0;32m--> 367\u001b[0;31m                             'plot'.format(numeric_data.__class__.__name__))\n\u001b[0m\u001b[1;32m    368\u001b[0m \u001b[0;34m\u001b[0m\u001b[0m\n\u001b[1;32m    369\u001b[0m         \u001b[0mself\u001b[0m\u001b[0;34m.\u001b[0m\u001b[0mdata\u001b[0m \u001b[0;34m=\u001b[0m \u001b[0mnumeric_data\u001b[0m\u001b[0;34m\u001b[0m\u001b[0m\n",
            "\u001b[0;31mTypeError\u001b[0m: Empty 'DataFrame': no numeric data to plot"
          ]
        }
      ]
    },
    {
      "cell_type": "code",
      "metadata": {
        "collapsed": true,
        "id": "JMOg7fIhDa65",
        "outputId": "a1973be2-bcb0-44d1-e5ee-4ea6a607f6ee"
      },
      "source": [
        "# Plot for 2b: frequencyAnalytics2() function\n",
        "a_freq2 = frequencyAnalytics2()\n",
        "pd.DataFrame(a_freq2, columns= ['bloodpr', 'temp']).plot.hist(bins= 10)\n",
        "plt.show()"
      ],
      "execution_count": null,
      "outputs": [
        {
          "output_type": "error",
          "ename": "TypeError",
          "evalue": "Empty 'DataFrame': no numeric data to plot",
          "traceback": [
            "\u001b[0;31m---------------------------------------------------------------------------\u001b[0m",
            "\u001b[0;31mTypeError\u001b[0m                                 Traceback (most recent call last)",
            "\u001b[0;32m<ipython-input-27-ead6c6f5c0c7>\u001b[0m in \u001b[0;36m<module>\u001b[0;34m\u001b[0m\n\u001b[1;32m      1\u001b[0m \u001b[0;31m# Plot for 2b: frequencyAnalytics2() function\u001b[0m\u001b[0;34m\u001b[0m\u001b[0;34m\u001b[0m\u001b[0m\n\u001b[1;32m      2\u001b[0m \u001b[0ma_freq2\u001b[0m \u001b[0;34m=\u001b[0m \u001b[0mfrequencyAnalytics2\u001b[0m\u001b[0;34m(\u001b[0m\u001b[0;34m)\u001b[0m\u001b[0;34m\u001b[0m\u001b[0m\n\u001b[0;32m----> 3\u001b[0;31m \u001b[0mpd\u001b[0m\u001b[0;34m.\u001b[0m\u001b[0mDataFrame\u001b[0m\u001b[0;34m(\u001b[0m\u001b[0ma_freq2\u001b[0m\u001b[0;34m,\u001b[0m \u001b[0mcolumns\u001b[0m\u001b[0;34m=\u001b[0m \u001b[0;34m[\u001b[0m\u001b[0;34m'bloodpr'\u001b[0m\u001b[0;34m,\u001b[0m \u001b[0;34m'temp'\u001b[0m\u001b[0;34m]\u001b[0m\u001b[0;34m)\u001b[0m\u001b[0;34m.\u001b[0m\u001b[0mplot\u001b[0m\u001b[0;34m.\u001b[0m\u001b[0mhist\u001b[0m\u001b[0;34m(\u001b[0m\u001b[0mbins\u001b[0m\u001b[0;34m=\u001b[0m \u001b[0;36m10\u001b[0m\u001b[0;34m)\u001b[0m\u001b[0;34m\u001b[0m\u001b[0m\n\u001b[0m\u001b[1;32m      4\u001b[0m \u001b[0mplt\u001b[0m\u001b[0;34m.\u001b[0m\u001b[0mshow\u001b[0m\u001b[0;34m(\u001b[0m\u001b[0;34m)\u001b[0m\u001b[0;34m\u001b[0m\u001b[0m\n",
            "\u001b[0;32m/anaconda3/lib/python3.7/site-packages/pandas/plotting/_core.py\u001b[0m in \u001b[0;36mhist\u001b[0;34m(self, by, bins, **kwds)\u001b[0m\n\u001b[1;32m   3265\u001b[0m             \u001b[0;34m>>\u001b[0m\u001b[0;34m>\u001b[0m \u001b[0max\u001b[0m \u001b[0;34m=\u001b[0m \u001b[0mdf\u001b[0m\u001b[0;34m.\u001b[0m\u001b[0mplot\u001b[0m\u001b[0;34m.\u001b[0m\u001b[0mhist\u001b[0m\u001b[0;34m(\u001b[0m\u001b[0mbins\u001b[0m\u001b[0;34m=\u001b[0m\u001b[0;36m12\u001b[0m\u001b[0;34m,\u001b[0m \u001b[0malpha\u001b[0m\u001b[0;34m=\u001b[0m\u001b[0;36m0.5\u001b[0m\u001b[0;34m)\u001b[0m\u001b[0;34m\u001b[0m\u001b[0m\n\u001b[1;32m   3266\u001b[0m         \"\"\"\n\u001b[0;32m-> 3267\u001b[0;31m         \u001b[0;32mreturn\u001b[0m \u001b[0mself\u001b[0m\u001b[0;34m(\u001b[0m\u001b[0mkind\u001b[0m\u001b[0;34m=\u001b[0m\u001b[0;34m'hist'\u001b[0m\u001b[0;34m,\u001b[0m \u001b[0mby\u001b[0m\u001b[0;34m=\u001b[0m\u001b[0mby\u001b[0m\u001b[0;34m,\u001b[0m \u001b[0mbins\u001b[0m\u001b[0;34m=\u001b[0m\u001b[0mbins\u001b[0m\u001b[0;34m,\u001b[0m \u001b[0;34m**\u001b[0m\u001b[0mkwds\u001b[0m\u001b[0;34m)\u001b[0m\u001b[0;34m\u001b[0m\u001b[0m\n\u001b[0m\u001b[1;32m   3268\u001b[0m \u001b[0;34m\u001b[0m\u001b[0m\n\u001b[1;32m   3269\u001b[0m     @Appender(_kde_docstring % {\n",
            "\u001b[0;32m/anaconda3/lib/python3.7/site-packages/pandas/plotting/_core.py\u001b[0m in \u001b[0;36m__call__\u001b[0;34m(self, x, y, kind, ax, subplots, sharex, sharey, layout, figsize, use_index, title, grid, legend, style, logx, logy, loglog, xticks, yticks, xlim, ylim, rot, fontsize, colormap, table, yerr, xerr, secondary_y, sort_columns, **kwds)\u001b[0m\n\u001b[1;32m   2940\u001b[0m                           \u001b[0mfontsize\u001b[0m\u001b[0;34m=\u001b[0m\u001b[0mfontsize\u001b[0m\u001b[0;34m,\u001b[0m \u001b[0mcolormap\u001b[0m\u001b[0;34m=\u001b[0m\u001b[0mcolormap\u001b[0m\u001b[0;34m,\u001b[0m \u001b[0mtable\u001b[0m\u001b[0;34m=\u001b[0m\u001b[0mtable\u001b[0m\u001b[0;34m,\u001b[0m\u001b[0;34m\u001b[0m\u001b[0m\n\u001b[1;32m   2941\u001b[0m                           \u001b[0myerr\u001b[0m\u001b[0;34m=\u001b[0m\u001b[0myerr\u001b[0m\u001b[0;34m,\u001b[0m \u001b[0mxerr\u001b[0m\u001b[0;34m=\u001b[0m\u001b[0mxerr\u001b[0m\u001b[0;34m,\u001b[0m \u001b[0msecondary_y\u001b[0m\u001b[0;34m=\u001b[0m\u001b[0msecondary_y\u001b[0m\u001b[0;34m,\u001b[0m\u001b[0;34m\u001b[0m\u001b[0m\n\u001b[0;32m-> 2942\u001b[0;31m                           sort_columns=sort_columns, **kwds)\n\u001b[0m\u001b[1;32m   2943\u001b[0m     \u001b[0m__call__\u001b[0m\u001b[0;34m.\u001b[0m\u001b[0m__doc__\u001b[0m \u001b[0;34m=\u001b[0m \u001b[0mplot_frame\u001b[0m\u001b[0;34m.\u001b[0m\u001b[0m__doc__\u001b[0m\u001b[0;34m\u001b[0m\u001b[0m\n\u001b[1;32m   2944\u001b[0m \u001b[0;34m\u001b[0m\u001b[0m\n",
            "\u001b[0;32m/anaconda3/lib/python3.7/site-packages/pandas/plotting/_core.py\u001b[0m in \u001b[0;36mplot_frame\u001b[0;34m(data, x, y, kind, ax, subplots, sharex, sharey, layout, figsize, use_index, title, grid, legend, style, logx, logy, loglog, xticks, yticks, xlim, ylim, rot, fontsize, colormap, table, yerr, xerr, secondary_y, sort_columns, **kwds)\u001b[0m\n\u001b[1;32m   1971\u001b[0m                  \u001b[0myerr\u001b[0m\u001b[0;34m=\u001b[0m\u001b[0myerr\u001b[0m\u001b[0;34m,\u001b[0m \u001b[0mxerr\u001b[0m\u001b[0;34m=\u001b[0m\u001b[0mxerr\u001b[0m\u001b[0;34m,\u001b[0m\u001b[0;34m\u001b[0m\u001b[0m\n\u001b[1;32m   1972\u001b[0m                  \u001b[0msecondary_y\u001b[0m\u001b[0;34m=\u001b[0m\u001b[0msecondary_y\u001b[0m\u001b[0;34m,\u001b[0m \u001b[0msort_columns\u001b[0m\u001b[0;34m=\u001b[0m\u001b[0msort_columns\u001b[0m\u001b[0;34m,\u001b[0m\u001b[0;34m\u001b[0m\u001b[0m\n\u001b[0;32m-> 1973\u001b[0;31m                  **kwds)\n\u001b[0m\u001b[1;32m   1974\u001b[0m \u001b[0;34m\u001b[0m\u001b[0m\n\u001b[1;32m   1975\u001b[0m \u001b[0;34m\u001b[0m\u001b[0m\n",
            "\u001b[0;32m/anaconda3/lib/python3.7/site-packages/pandas/plotting/_core.py\u001b[0m in \u001b[0;36m_plot\u001b[0;34m(data, x, y, subplots, ax, kind, **kwds)\u001b[0m\n\u001b[1;32m   1799\u001b[0m         \u001b[0mplot_obj\u001b[0m \u001b[0;34m=\u001b[0m \u001b[0mklass\u001b[0m\u001b[0;34m(\u001b[0m\u001b[0mdata\u001b[0m\u001b[0;34m,\u001b[0m \u001b[0msubplots\u001b[0m\u001b[0;34m=\u001b[0m\u001b[0msubplots\u001b[0m\u001b[0;34m,\u001b[0m \u001b[0max\u001b[0m\u001b[0;34m=\u001b[0m\u001b[0max\u001b[0m\u001b[0;34m,\u001b[0m \u001b[0mkind\u001b[0m\u001b[0;34m=\u001b[0m\u001b[0mkind\u001b[0m\u001b[0;34m,\u001b[0m \u001b[0;34m**\u001b[0m\u001b[0mkwds\u001b[0m\u001b[0;34m)\u001b[0m\u001b[0;34m\u001b[0m\u001b[0m\n\u001b[1;32m   1800\u001b[0m \u001b[0;34m\u001b[0m\u001b[0m\n\u001b[0;32m-> 1801\u001b[0;31m     \u001b[0mplot_obj\u001b[0m\u001b[0;34m.\u001b[0m\u001b[0mgenerate\u001b[0m\u001b[0;34m(\u001b[0m\u001b[0;34m)\u001b[0m\u001b[0;34m\u001b[0m\u001b[0m\n\u001b[0m\u001b[1;32m   1802\u001b[0m     \u001b[0mplot_obj\u001b[0m\u001b[0;34m.\u001b[0m\u001b[0mdraw\u001b[0m\u001b[0;34m(\u001b[0m\u001b[0;34m)\u001b[0m\u001b[0;34m\u001b[0m\u001b[0m\n\u001b[1;32m   1803\u001b[0m     \u001b[0;32mreturn\u001b[0m \u001b[0mplot_obj\u001b[0m\u001b[0;34m.\u001b[0m\u001b[0mresult\u001b[0m\u001b[0;34m\u001b[0m\u001b[0m\n",
            "\u001b[0;32m/anaconda3/lib/python3.7/site-packages/pandas/plotting/_core.py\u001b[0m in \u001b[0;36mgenerate\u001b[0;34m(self)\u001b[0m\n\u001b[1;32m    247\u001b[0m     \u001b[0;32mdef\u001b[0m \u001b[0mgenerate\u001b[0m\u001b[0;34m(\u001b[0m\u001b[0mself\u001b[0m\u001b[0;34m)\u001b[0m\u001b[0;34m:\u001b[0m\u001b[0;34m\u001b[0m\u001b[0m\n\u001b[1;32m    248\u001b[0m         \u001b[0mself\u001b[0m\u001b[0;34m.\u001b[0m\u001b[0m_args_adjust\u001b[0m\u001b[0;34m(\u001b[0m\u001b[0;34m)\u001b[0m\u001b[0;34m\u001b[0m\u001b[0m\n\u001b[0;32m--> 249\u001b[0;31m         \u001b[0mself\u001b[0m\u001b[0;34m.\u001b[0m\u001b[0m_compute_plot_data\u001b[0m\u001b[0;34m(\u001b[0m\u001b[0;34m)\u001b[0m\u001b[0;34m\u001b[0m\u001b[0m\n\u001b[0m\u001b[1;32m    250\u001b[0m         \u001b[0mself\u001b[0m\u001b[0;34m.\u001b[0m\u001b[0m_setup_subplots\u001b[0m\u001b[0;34m(\u001b[0m\u001b[0;34m)\u001b[0m\u001b[0;34m\u001b[0m\u001b[0m\n\u001b[1;32m    251\u001b[0m         \u001b[0mself\u001b[0m\u001b[0;34m.\u001b[0m\u001b[0m_make_plot\u001b[0m\u001b[0;34m(\u001b[0m\u001b[0;34m)\u001b[0m\u001b[0;34m\u001b[0m\u001b[0m\n",
            "\u001b[0;32m/anaconda3/lib/python3.7/site-packages/pandas/plotting/_core.py\u001b[0m in \u001b[0;36m_compute_plot_data\u001b[0;34m(self)\u001b[0m\n\u001b[1;32m    365\u001b[0m         \u001b[0;32mif\u001b[0m \u001b[0mis_empty\u001b[0m\u001b[0;34m:\u001b[0m\u001b[0;34m\u001b[0m\u001b[0m\n\u001b[1;32m    366\u001b[0m             raise TypeError('Empty {0!r}: no numeric data to '\n\u001b[0;32m--> 367\u001b[0;31m                             'plot'.format(numeric_data.__class__.__name__))\n\u001b[0m\u001b[1;32m    368\u001b[0m \u001b[0;34m\u001b[0m\u001b[0m\n\u001b[1;32m    369\u001b[0m         \u001b[0mself\u001b[0m\u001b[0;34m.\u001b[0m\u001b[0mdata\u001b[0m \u001b[0;34m=\u001b[0m \u001b[0mnumeric_data\u001b[0m\u001b[0;34m\u001b[0m\u001b[0m\n",
            "\u001b[0;31mTypeError\u001b[0m: Empty 'DataFrame': no numeric data to plot"
          ]
        }
      ]
    },
    {
      "cell_type": "markdown",
      "metadata": {
        "id": "YaYMRCpMDa65"
      },
      "source": [
        "#### Phase 3: Search for heart rates using the HealthAnalyzer.\n",
        "\n",
        "Develop a function called HealthAnalyzer. HealthAnalyzer provides a query mechanism to search for a particular sign value, for example it could search for records where the pulse value is 56.\n",
        "\n",
        "##### a) Design an algorithm to search for a particular pulse rate value (e.g. 56), the algorithm should return a multidimensional list with all the records associated with this value (ts, temp, hr, pulse, bloodpr, resrate, oxsat). Keep in mind that a value might exist more than 1 time. For example, when searching for value 56, the following 3 records are selected.\n",
        "[121, 37, 61, 56, 120, 11, 95, 7.3],\n",
        "[126, 38, 62, 56, 120, 11, 95, 7.3],\n",
        "[131, 37, 62, 56, 120, 11, 94, 7.2]\n",
        "For this example, the output could be a list such as: [ [121, 37, 61, 56, 120, 11, 95, 7.3], [126, 38, 62, 56, 120, 11, 95, 7.3], [131, 37, 62, 56, 120, 11, 94, 7.2]].\n",
        "\n",
        "##### b) What is the complexity of your solution?\n",
        "\n",
        "##### c) Plot the heart rate values for records having pulse rate 56.\n",
        "Notes: Present diagrams and discussions in the report. Name the function: healthAnalyzer (…)\n"
      ]
    },
    {
      "cell_type": "code",
      "metadata": {
        "collapsed": true,
        "id": "uH_tTzGoDa66",
        "outputId": "70a354d4-9845-48bd-ffe6-9a75b61941e0"
      },
      "source": [
        "## Phase 3: Search for heart rates using the HealthAnalyzer\n",
        "# a) Search for a particular pulse rate of 56\n",
        "\n",
        "## SOLUTION 1: Using a build in python function\n",
        "def healthAnalyzer():\n",
        "    random.seed(404)\n",
        "    data = df.round(1)\n",
        "    return data[data.pulse==56]\n",
        "healthAnalyzer()"
      ],
      "execution_count": null,
      "outputs": [
        {
          "output_type": "execute_result",
          "data": {
            "text/html": [
              "<div>\n",
              "<style scoped>\n",
              "    .dataframe tbody tr th:only-of-type {\n",
              "        vertical-align: middle;\n",
              "    }\n",
              "\n",
              "    .dataframe tbody tr th {\n",
              "        vertical-align: top;\n",
              "    }\n",
              "\n",
              "    .dataframe thead th {\n",
              "        text-align: right;\n",
              "    }\n",
              "</style>\n",
              "<table border=\"1\" class=\"dataframe\">\n",
              "  <thead>\n",
              "    <tr style=\"text-align: right;\">\n",
              "      <th></th>\n",
              "      <th>Temp</th>\n",
              "      <th>hr</th>\n",
              "      <th>pulse</th>\n",
              "      <th>bloodpr</th>\n",
              "      <th>resrate</th>\n",
              "      <th>oxsat</th>\n",
              "      <th>ph</th>\n",
              "    </tr>\n",
              "    <tr>\n",
              "      <th>ts</th>\n",
              "      <th></th>\n",
              "      <th></th>\n",
              "      <th></th>\n",
              "      <th></th>\n",
              "      <th></th>\n",
              "      <th></th>\n",
              "      <th></th>\n",
              "    </tr>\n",
              "  </thead>\n",
              "  <tbody>\n",
              "    <tr>\n",
              "      <th>9</th>\n",
              "      <td>37</td>\n",
              "      <td>73</td>\n",
              "      <td>56</td>\n",
              "      <td>121</td>\n",
              "      <td>13</td>\n",
              "      <td>95</td>\n",
              "      <td>7.3</td>\n",
              "    </tr>\n",
              "    <tr>\n",
              "      <th>144</th>\n",
              "      <td>37</td>\n",
              "      <td>56</td>\n",
              "      <td>56</td>\n",
              "      <td>120</td>\n",
              "      <td>15</td>\n",
              "      <td>95</td>\n",
              "      <td>7.5</td>\n",
              "    </tr>\n",
              "    <tr>\n",
              "      <th>177</th>\n",
              "      <td>36</td>\n",
              "      <td>80</td>\n",
              "      <td>56</td>\n",
              "      <td>121</td>\n",
              "      <td>12</td>\n",
              "      <td>93</td>\n",
              "      <td>7.4</td>\n",
              "    </tr>\n",
              "    <tr>\n",
              "      <th>187</th>\n",
              "      <td>37</td>\n",
              "      <td>93</td>\n",
              "      <td>56</td>\n",
              "      <td>121</td>\n",
              "      <td>12</td>\n",
              "      <td>98</td>\n",
              "      <td>7.3</td>\n",
              "    </tr>\n",
              "    <tr>\n",
              "      <th>294</th>\n",
              "      <td>36</td>\n",
              "      <td>97</td>\n",
              "      <td>56</td>\n",
              "      <td>121</td>\n",
              "      <td>12</td>\n",
              "      <td>97</td>\n",
              "      <td>7.2</td>\n",
              "    </tr>\n",
              "    <tr>\n",
              "      <th>300</th>\n",
              "      <td>36</td>\n",
              "      <td>79</td>\n",
              "      <td>56</td>\n",
              "      <td>120</td>\n",
              "      <td>17</td>\n",
              "      <td>97</td>\n",
              "      <td>7.5</td>\n",
              "    </tr>\n",
              "    <tr>\n",
              "      <th>394</th>\n",
              "      <td>37</td>\n",
              "      <td>92</td>\n",
              "      <td>56</td>\n",
              "      <td>120</td>\n",
              "      <td>14</td>\n",
              "      <td>100</td>\n",
              "      <td>7.2</td>\n",
              "    </tr>\n",
              "    <tr>\n",
              "      <th>400</th>\n",
              "      <td>38</td>\n",
              "      <td>89</td>\n",
              "      <td>56</td>\n",
              "      <td>121</td>\n",
              "      <td>13</td>\n",
              "      <td>96</td>\n",
              "      <td>7.4</td>\n",
              "    </tr>\n",
              "    <tr>\n",
              "      <th>421</th>\n",
              "      <td>36</td>\n",
              "      <td>72</td>\n",
              "      <td>56</td>\n",
              "      <td>120</td>\n",
              "      <td>12</td>\n",
              "      <td>100</td>\n",
              "      <td>7.5</td>\n",
              "    </tr>\n",
              "    <tr>\n",
              "      <th>425</th>\n",
              "      <td>37</td>\n",
              "      <td>87</td>\n",
              "      <td>56</td>\n",
              "      <td>120</td>\n",
              "      <td>17</td>\n",
              "      <td>96</td>\n",
              "      <td>7.4</td>\n",
              "    </tr>\n",
              "    <tr>\n",
              "      <th>569</th>\n",
              "      <td>37</td>\n",
              "      <td>98</td>\n",
              "      <td>56</td>\n",
              "      <td>120</td>\n",
              "      <td>15</td>\n",
              "      <td>94</td>\n",
              "      <td>7.6</td>\n",
              "    </tr>\n",
              "    <tr>\n",
              "      <th>584</th>\n",
              "      <td>39</td>\n",
              "      <td>97</td>\n",
              "      <td>56</td>\n",
              "      <td>121</td>\n",
              "      <td>15</td>\n",
              "      <td>100</td>\n",
              "      <td>7.1</td>\n",
              "    </tr>\n",
              "    <tr>\n",
              "      <th>667</th>\n",
              "      <td>38</td>\n",
              "      <td>63</td>\n",
              "      <td>56</td>\n",
              "      <td>120</td>\n",
              "      <td>12</td>\n",
              "      <td>94</td>\n",
              "      <td>7.4</td>\n",
              "    </tr>\n",
              "    <tr>\n",
              "      <th>675</th>\n",
              "      <td>39</td>\n",
              "      <td>72</td>\n",
              "      <td>56</td>\n",
              "      <td>120</td>\n",
              "      <td>14</td>\n",
              "      <td>97</td>\n",
              "      <td>7.3</td>\n",
              "    </tr>\n",
              "    <tr>\n",
              "      <th>802</th>\n",
              "      <td>38</td>\n",
              "      <td>76</td>\n",
              "      <td>56</td>\n",
              "      <td>121</td>\n",
              "      <td>12</td>\n",
              "      <td>95</td>\n",
              "      <td>7.3</td>\n",
              "    </tr>\n",
              "    <tr>\n",
              "      <th>896</th>\n",
              "      <td>39</td>\n",
              "      <td>91</td>\n",
              "      <td>56</td>\n",
              "      <td>120</td>\n",
              "      <td>17</td>\n",
              "      <td>93</td>\n",
              "      <td>7.5</td>\n",
              "    </tr>\n",
              "    <tr>\n",
              "      <th>919</th>\n",
              "      <td>37</td>\n",
              "      <td>95</td>\n",
              "      <td>56</td>\n",
              "      <td>121</td>\n",
              "      <td>16</td>\n",
              "      <td>96</td>\n",
              "      <td>7.4</td>\n",
              "    </tr>\n",
              "    <tr>\n",
              "      <th>934</th>\n",
              "      <td>38</td>\n",
              "      <td>100</td>\n",
              "      <td>56</td>\n",
              "      <td>120</td>\n",
              "      <td>12</td>\n",
              "      <td>94</td>\n",
              "      <td>7.3</td>\n",
              "    </tr>\n",
              "    <tr>\n",
              "      <th>962</th>\n",
              "      <td>36</td>\n",
              "      <td>66</td>\n",
              "      <td>56</td>\n",
              "      <td>121</td>\n",
              "      <td>13</td>\n",
              "      <td>98</td>\n",
              "      <td>7.3</td>\n",
              "    </tr>\n",
              "  </tbody>\n",
              "</table>\n",
              "</div>"
            ],
            "text/plain": [
              "     Temp   hr  pulse  bloodpr  resrate  oxsat   ph\n",
              "ts                                                 \n",
              "9      37   73     56      121       13     95  7.3\n",
              "144    37   56     56      120       15     95  7.5\n",
              "177    36   80     56      121       12     93  7.4\n",
              "187    37   93     56      121       12     98  7.3\n",
              "294    36   97     56      121       12     97  7.2\n",
              "300    36   79     56      120       17     97  7.5\n",
              "394    37   92     56      120       14    100  7.2\n",
              "400    38   89     56      121       13     96  7.4\n",
              "421    36   72     56      120       12    100  7.5\n",
              "425    37   87     56      120       17     96  7.4\n",
              "569    37   98     56      120       15     94  7.6\n",
              "584    39   97     56      121       15    100  7.1\n",
              "667    38   63     56      120       12     94  7.4\n",
              "675    39   72     56      120       14     97  7.3\n",
              "802    38   76     56      121       12     95  7.3\n",
              "896    39   91     56      120       17     93  7.5\n",
              "919    37   95     56      121       16     96  7.4\n",
              "934    38  100     56      120       12     94  7.3\n",
              "962    36   66     56      121       13     98  7.3"
            ]
          },
          "metadata": {
            "tags": []
          },
          "execution_count": 28
        }
      ]
    },
    {
      "cell_type": "code",
      "metadata": {
        "scrolled": true,
        "id": "YTLPdZQGDa66",
        "outputId": "4ff09b5c-ac9d-42d0-cce0-6f284e3e586f"
      },
      "source": [
        "%timeit healthAnalyzer()"
      ],
      "execution_count": null,
      "outputs": [
        {
          "output_type": "stream",
          "text": [
            "2.34 ms ± 234 µs per loop (mean ± std. dev. of 7 runs, 100 loops each)\n"
          ],
          "name": "stdout"
        }
      ]
    },
    {
      "cell_type": "code",
      "metadata": {
        "collapsed": true,
        "id": "99r1WyWbDa67",
        "outputId": "e851cae0-a0a2-48c7-bb57-43e3fbbdab62"
      },
      "source": [
        "## Phase 3: Search for heart rates using the HealthAnalyzer\n",
        "# a) Search for a particular pulse rate of 56\n",
        "## SOLUTION 2, Using in build python functions\n",
        "def healthAnalyzer2():\n",
        "    random.seed(404)\n",
        "    data = df.round(1)\n",
        "    return data[data['pulse']==56]\n",
        "healthAnalyzer2()"
      ],
      "execution_count": null,
      "outputs": [
        {
          "output_type": "execute_result",
          "data": {
            "text/html": [
              "<div>\n",
              "<style scoped>\n",
              "    .dataframe tbody tr th:only-of-type {\n",
              "        vertical-align: middle;\n",
              "    }\n",
              "\n",
              "    .dataframe tbody tr th {\n",
              "        vertical-align: top;\n",
              "    }\n",
              "\n",
              "    .dataframe thead th {\n",
              "        text-align: right;\n",
              "    }\n",
              "</style>\n",
              "<table border=\"1\" class=\"dataframe\">\n",
              "  <thead>\n",
              "    <tr style=\"text-align: right;\">\n",
              "      <th></th>\n",
              "      <th>Temp</th>\n",
              "      <th>hr</th>\n",
              "      <th>pulse</th>\n",
              "      <th>bloodpr</th>\n",
              "      <th>resrate</th>\n",
              "      <th>oxsat</th>\n",
              "      <th>ph</th>\n",
              "    </tr>\n",
              "    <tr>\n",
              "      <th>ts</th>\n",
              "      <th></th>\n",
              "      <th></th>\n",
              "      <th></th>\n",
              "      <th></th>\n",
              "      <th></th>\n",
              "      <th></th>\n",
              "      <th></th>\n",
              "    </tr>\n",
              "  </thead>\n",
              "  <tbody>\n",
              "    <tr>\n",
              "      <th>9</th>\n",
              "      <td>37</td>\n",
              "      <td>73</td>\n",
              "      <td>56</td>\n",
              "      <td>121</td>\n",
              "      <td>13</td>\n",
              "      <td>95</td>\n",
              "      <td>7.3</td>\n",
              "    </tr>\n",
              "    <tr>\n",
              "      <th>144</th>\n",
              "      <td>37</td>\n",
              "      <td>56</td>\n",
              "      <td>56</td>\n",
              "      <td>120</td>\n",
              "      <td>15</td>\n",
              "      <td>95</td>\n",
              "      <td>7.5</td>\n",
              "    </tr>\n",
              "    <tr>\n",
              "      <th>177</th>\n",
              "      <td>36</td>\n",
              "      <td>80</td>\n",
              "      <td>56</td>\n",
              "      <td>121</td>\n",
              "      <td>12</td>\n",
              "      <td>93</td>\n",
              "      <td>7.4</td>\n",
              "    </tr>\n",
              "    <tr>\n",
              "      <th>187</th>\n",
              "      <td>37</td>\n",
              "      <td>93</td>\n",
              "      <td>56</td>\n",
              "      <td>121</td>\n",
              "      <td>12</td>\n",
              "      <td>98</td>\n",
              "      <td>7.3</td>\n",
              "    </tr>\n",
              "    <tr>\n",
              "      <th>294</th>\n",
              "      <td>36</td>\n",
              "      <td>97</td>\n",
              "      <td>56</td>\n",
              "      <td>121</td>\n",
              "      <td>12</td>\n",
              "      <td>97</td>\n",
              "      <td>7.2</td>\n",
              "    </tr>\n",
              "    <tr>\n",
              "      <th>300</th>\n",
              "      <td>36</td>\n",
              "      <td>79</td>\n",
              "      <td>56</td>\n",
              "      <td>120</td>\n",
              "      <td>17</td>\n",
              "      <td>97</td>\n",
              "      <td>7.5</td>\n",
              "    </tr>\n",
              "    <tr>\n",
              "      <th>394</th>\n",
              "      <td>37</td>\n",
              "      <td>92</td>\n",
              "      <td>56</td>\n",
              "      <td>120</td>\n",
              "      <td>14</td>\n",
              "      <td>100</td>\n",
              "      <td>7.2</td>\n",
              "    </tr>\n",
              "    <tr>\n",
              "      <th>400</th>\n",
              "      <td>38</td>\n",
              "      <td>89</td>\n",
              "      <td>56</td>\n",
              "      <td>121</td>\n",
              "      <td>13</td>\n",
              "      <td>96</td>\n",
              "      <td>7.4</td>\n",
              "    </tr>\n",
              "    <tr>\n",
              "      <th>421</th>\n",
              "      <td>36</td>\n",
              "      <td>72</td>\n",
              "      <td>56</td>\n",
              "      <td>120</td>\n",
              "      <td>12</td>\n",
              "      <td>100</td>\n",
              "      <td>7.5</td>\n",
              "    </tr>\n",
              "    <tr>\n",
              "      <th>425</th>\n",
              "      <td>37</td>\n",
              "      <td>87</td>\n",
              "      <td>56</td>\n",
              "      <td>120</td>\n",
              "      <td>17</td>\n",
              "      <td>96</td>\n",
              "      <td>7.4</td>\n",
              "    </tr>\n",
              "    <tr>\n",
              "      <th>569</th>\n",
              "      <td>37</td>\n",
              "      <td>98</td>\n",
              "      <td>56</td>\n",
              "      <td>120</td>\n",
              "      <td>15</td>\n",
              "      <td>94</td>\n",
              "      <td>7.6</td>\n",
              "    </tr>\n",
              "    <tr>\n",
              "      <th>584</th>\n",
              "      <td>39</td>\n",
              "      <td>97</td>\n",
              "      <td>56</td>\n",
              "      <td>121</td>\n",
              "      <td>15</td>\n",
              "      <td>100</td>\n",
              "      <td>7.1</td>\n",
              "    </tr>\n",
              "    <tr>\n",
              "      <th>667</th>\n",
              "      <td>38</td>\n",
              "      <td>63</td>\n",
              "      <td>56</td>\n",
              "      <td>120</td>\n",
              "      <td>12</td>\n",
              "      <td>94</td>\n",
              "      <td>7.4</td>\n",
              "    </tr>\n",
              "    <tr>\n",
              "      <th>675</th>\n",
              "      <td>39</td>\n",
              "      <td>72</td>\n",
              "      <td>56</td>\n",
              "      <td>120</td>\n",
              "      <td>14</td>\n",
              "      <td>97</td>\n",
              "      <td>7.3</td>\n",
              "    </tr>\n",
              "    <tr>\n",
              "      <th>802</th>\n",
              "      <td>38</td>\n",
              "      <td>76</td>\n",
              "      <td>56</td>\n",
              "      <td>121</td>\n",
              "      <td>12</td>\n",
              "      <td>95</td>\n",
              "      <td>7.3</td>\n",
              "    </tr>\n",
              "    <tr>\n",
              "      <th>896</th>\n",
              "      <td>39</td>\n",
              "      <td>91</td>\n",
              "      <td>56</td>\n",
              "      <td>120</td>\n",
              "      <td>17</td>\n",
              "      <td>93</td>\n",
              "      <td>7.5</td>\n",
              "    </tr>\n",
              "    <tr>\n",
              "      <th>919</th>\n",
              "      <td>37</td>\n",
              "      <td>95</td>\n",
              "      <td>56</td>\n",
              "      <td>121</td>\n",
              "      <td>16</td>\n",
              "      <td>96</td>\n",
              "      <td>7.4</td>\n",
              "    </tr>\n",
              "    <tr>\n",
              "      <th>934</th>\n",
              "      <td>38</td>\n",
              "      <td>100</td>\n",
              "      <td>56</td>\n",
              "      <td>120</td>\n",
              "      <td>12</td>\n",
              "      <td>94</td>\n",
              "      <td>7.3</td>\n",
              "    </tr>\n",
              "    <tr>\n",
              "      <th>962</th>\n",
              "      <td>36</td>\n",
              "      <td>66</td>\n",
              "      <td>56</td>\n",
              "      <td>121</td>\n",
              "      <td>13</td>\n",
              "      <td>98</td>\n",
              "      <td>7.3</td>\n",
              "    </tr>\n",
              "  </tbody>\n",
              "</table>\n",
              "</div>"
            ],
            "text/plain": [
              "     Temp   hr  pulse  bloodpr  resrate  oxsat   ph\n",
              "ts                                                 \n",
              "9      37   73     56      121       13     95  7.3\n",
              "144    37   56     56      120       15     95  7.5\n",
              "177    36   80     56      121       12     93  7.4\n",
              "187    37   93     56      121       12     98  7.3\n",
              "294    36   97     56      121       12     97  7.2\n",
              "300    36   79     56      120       17     97  7.5\n",
              "394    37   92     56      120       14    100  7.2\n",
              "400    38   89     56      121       13     96  7.4\n",
              "421    36   72     56      120       12    100  7.5\n",
              "425    37   87     56      120       17     96  7.4\n",
              "569    37   98     56      120       15     94  7.6\n",
              "584    39   97     56      121       15    100  7.1\n",
              "667    38   63     56      120       12     94  7.4\n",
              "675    39   72     56      120       14     97  7.3\n",
              "802    38   76     56      121       12     95  7.3\n",
              "896    39   91     56      120       17     93  7.5\n",
              "919    37   95     56      121       16     96  7.4\n",
              "934    38  100     56      120       12     94  7.3\n",
              "962    36   66     56      121       13     98  7.3"
            ]
          },
          "metadata": {
            "tags": []
          },
          "execution_count": 30
        }
      ]
    },
    {
      "cell_type": "code",
      "metadata": {
        "id": "zgGqfjk4Da67",
        "outputId": "e1532103-b9eb-423f-e3ae-5dfb6ebc3a99"
      },
      "source": [
        "%timeit healthAnalyzer2()"
      ],
      "execution_count": null,
      "outputs": [
        {
          "output_type": "stream",
          "text": [
            "2.2 ms ± 195 µs per loop (mean ± std. dev. of 7 runs, 100 loops each)\n"
          ],
          "name": "stdout"
        }
      ]
    },
    {
      "cell_type": "code",
      "metadata": {
        "scrolled": true,
        "id": "pFhVW__PDa67"
      },
      "source": [
        "## Phase 3: Search for heart rates using the HealthAnalyzer\n",
        "# a) Search for a particular pulse rate of 56\n",
        "## SOLUTION 3: Linear Search\n",
        "\n",
        "#tempList = data1.get('temp')\n",
        "heartRateList = data1.get('hr')\n",
        "pulseList = data1.get('pulse')\n",
        "#bloodprList = data1.get('bloodpr')\n",
        "#respList = data1.get('resrate')\n",
        "#oxygenList = data1.get('oxsat')\n",
        "#pHList = data1.get('ph')\n",
        "def healthAnalyzer3():\n",
        "    random.seed(404)\n",
        "    pulse_index_56 = []\n",
        "    for index in range (len(pulseList)):\n",
        "        pulse = pulseList[index]\n",
        "        heartRate= heartRateList[index]\n",
        "        #temp = tempList[index]\n",
        "        #bloodpr = bloodprList[index]\n",
        "        #resp = respList[index]\n",
        "        #oxygen = oxygenList[index]\n",
        "        #pH = pHList[index]\n",
        "        if (pulse == 56):\n",
        "            pulse_index_56.append([pulse,heartRate])\n",
        "    return pulse_index_56    "
      ],
      "execution_count": null,
      "outputs": []
    },
    {
      "cell_type": "code",
      "metadata": {
        "scrolled": false,
        "id": "pOd8QCF7Da67",
        "outputId": "a927f9f9-cf3c-4080-83fc-7bf9d0053cfb"
      },
      "source": [
        "%timeit healthAnalyzer3()"
      ],
      "execution_count": null,
      "outputs": [
        {
          "output_type": "stream",
          "text": [
            "620 µs ± 34.7 µs per loop (mean ± std. dev. of 7 runs, 1000 loops each)\n"
          ],
          "name": "stdout"
        }
      ]
    },
    {
      "cell_type": "code",
      "metadata": {
        "collapsed": true,
        "id": "CPM7tzF2Da68",
        "outputId": "c9630c2b-d605-4c41-db64-6ba34a2b79fd"
      },
      "source": [
        "healthAnalyzer3()"
      ],
      "execution_count": null,
      "outputs": [
        {
          "output_type": "execute_result",
          "data": {
            "text/plain": [
              "[[56, 64],\n",
              " [56, 91],\n",
              " [56, 76],\n",
              " [56, 100],\n",
              " [56, 75],\n",
              " [56, 65],\n",
              " [56, 69],\n",
              " [56, 86],\n",
              " [56, 88],\n",
              " [56, 87],\n",
              " [56, 79],\n",
              " [56, 89],\n",
              " [56, 69],\n",
              " [56, 56],\n",
              " [56, 71],\n",
              " [56, 55],\n",
              " [56, 86],\n",
              " [56, 58],\n",
              " [56, 80],\n",
              " [56, 59],\n",
              " [56, 78],\n",
              " [56, 92],\n",
              " [56, 73],\n",
              " [56, 79]]"
            ]
          },
          "metadata": {
            "tags": []
          },
          "execution_count": 34
        }
      ]
    },
    {
      "cell_type": "code",
      "metadata": {
        "scrolled": false,
        "id": "teuIC_KEDa68",
        "outputId": "943e36e3-8e98-405d-ff6d-2c85045e449f"
      },
      "source": [
        "## c) Plot the heart rate values for records having pulse rate 56\n",
        "\n",
        "\n",
        "import matplotlib.pyplot as plt\n",
        "\n",
        "pulseList = data1.get('pulse')\n",
        "heartRateList = data1.get('hr')\n",
        "\n",
        "def frequencyAnalytics():\n",
        "    random.seed(404)\n",
        "    pulse_index_56 = []\n",
        "    for index in range (len(pulseList)):\n",
        "        pulse = pulseList[index]\n",
        "        heartRate = heartRateList[index]\n",
        "        if (pulse == 56):\n",
        "            pulse_index_56.append([pulse,heartRate])\n",
        "    return pulse_index_56\n",
        "\n",
        "a = healthAnalyzer()\n",
        "pd.DataFrame(a, columns= ['hr']).plot.hist(bins= 10, title = 'Frequency Histogram of Heart Rates with pulse of 56 for healthAnalyzer()' )\n",
        "\n",
        "plt.show()"
      ],
      "execution_count": null,
      "outputs": [
        {
          "output_type": "display_data",
          "data": {
            "image/png": "[encoded data removed]",
            "text/plain": [
              "<Figure size 432x288 with 1 Axes>"
            ]
          },
          "metadata": {
            "tags": [],
            "needs_background": "light"
          }
        }
      ]
    },
    {
      "cell_type": "markdown",
      "metadata": {
        "id": "nTtXTM8nDa69"
      },
      "source": [
        "#### Phase 4: Testing scalability of your algorithm\n",
        "Benchmark the MyHealthData application simulating n = 1000, 2500, 5000, 7500 and 10000 records from phase 1 (MyHealthcare device).\n",
        "\n",
        "##### a) Measure the running time and plot the results for different n values.\n",
        "\n",
        "##### b) Present diagrams and discussions in the report.\n",
        "Notes: Name the function: benchmarking(myHealthcare(…))"
      ]
    },
    {
      "cell_type": "code",
      "metadata": {
        "id": "oZ8Q_xjZDa69",
        "outputId": "07ebd706-d5a2-4018-8437-d4e1868540a9"
      },
      "source": [
        "# Benchmark the MyHealthData application simulating n = 1000, 2500, 5000, 7500 and 10000 records \n",
        "# from phase 1 (MyHealthcare device).\n",
        "# a) Measure the running time and plot the results for different n values.\n",
        "\n",
        "n = 1000\n",
        "def benchmark(myHealthcare):\n",
        "    for i in range (n):\n",
        "        result = %timeit myHealthcare()\n",
        "        return result\n",
        "benchmark(myHealthcare)"
      ],
      "execution_count": null,
      "outputs": [
        {
          "output_type": "stream",
          "text": [
            "84.3 µs ± 1.35 µs per loop (mean ± std. dev. of 7 runs, 10000 loops each)\n"
          ],
          "name": "stdout"
        }
      ]
    },
    {
      "cell_type": "code",
      "metadata": {
        "scrolled": true,
        "id": "TH4pj7ylDa69",
        "outputId": "5d7266e6-e4da-42a2-b664-b571bf461339"
      },
      "source": [
        "# Plotting myHealthcare() for n =1000\n",
        "n= 1000\n",
        "%matplotlib inline\n",
        "import matplotlib.pyplot as plt\n",
        "pulseList = data1.get('pulse')\n",
        "heartRateList = data1.get('hr')\n",
        "\n",
        "def benchmark(myHealthcare):\n",
        "    pulse_index= []\n",
        "    for i in range (n):\n",
        "        pulse = pulseList[i]\n",
        "        heartRate = heartRateList[i]\n",
        "        for i in range (n):\n",
        "            pulse_index.append([pulse,heartRate])\n",
        "    return pulse_index\n",
        "\n",
        "a1000 = benchmark(myHealthcare)\n",
        "pd.DataFrame(a1000, columns= ['hr', 'pulse']).plot.hist(bins= 100, title = 'Frequency Histogram of Heart Rate and pulse for myHealthcare(1000)')\n",
        "plt.show()"
      ],
      "execution_count": null,
      "outputs": [
        {
          "output_type": "display_data",
          "data": {
            "image/png": "[encoded data removed]",
            "text/plain": [
              "<Figure size 432x288 with 1 Axes>"
            ]
          },
          "metadata": {
            "tags": [],
            "needs_background": "light"
          }
        }
      ]
    },
    {
      "cell_type": "code",
      "metadata": {
        "id": "Ar_O_PdtDa69",
        "outputId": "e7a63ae3-a3b4-440a-fe60-d156dce55833"
      },
      "source": [
        "n = 2500\n",
        "def benchmark(myHealthcare):\n",
        "    for i in range (n):\n",
        "        result = %timeit myHealthcare()\n",
        "        return result\n",
        "benchmark(myHealthcare)"
      ],
      "execution_count": null,
      "outputs": [
        {
          "output_type": "stream",
          "text": [
            "175 µs ± 4.1 µs per loop (mean ± std. dev. of 7 runs, 10000 loops each)\n"
          ],
          "name": "stdout"
        }
      ]
    },
    {
      "cell_type": "code",
      "metadata": {
        "collapsed": true,
        "id": "bzZaAn9HDa6-",
        "outputId": "c1ee411a-d8f8-4e98-b5c5-0ceec75b9037"
      },
      "source": [
        "# Plotting myHealthcare() for n =2500\n",
        "# n= 2500 fails with following error: IndexError: index 2000 is out of bounds for axis 0 with size 1000\n",
        "\n",
        "a2500 = benchmark(myHealthcare)\n",
        "pd.DataFrame(a2500, columns= ['heartRate', 'pulse']).plot.hist(x='heartRate', y='pulse', bins= 200)\n",
        "\n",
        "plt.show()"
      ],
      "execution_count": null,
      "outputs": [
        {
          "output_type": "error",
          "ename": "IndexError",
          "evalue": "index 1000 is out of bounds for axis 0 with size 1000",
          "traceback": [
            "\u001b[0;31m---------------------------------------------------------------------------\u001b[0m",
            "\u001b[0;31mIndexError\u001b[0m                                Traceback (most recent call last)",
            "\u001b[0;32m<ipython-input-48-a79200c883dc>\u001b[0m in \u001b[0;36m<module>\u001b[0;34m\u001b[0m\n\u001b[1;32m      1\u001b[0m \u001b[0;31m# Plotting myHealthcare() for n =2500\u001b[0m\u001b[0;34m\u001b[0m\u001b[0;34m\u001b[0m\u001b[0m\n\u001b[0;32m----> 2\u001b[0;31m \u001b[0ma2500\u001b[0m \u001b[0;34m=\u001b[0m \u001b[0mbenchmark\u001b[0m\u001b[0;34m(\u001b[0m\u001b[0mmyHealthcare\u001b[0m\u001b[0;34m)\u001b[0m\u001b[0;34m\u001b[0m\u001b[0m\n\u001b[0m\u001b[1;32m      3\u001b[0m \u001b[0mpd\u001b[0m\u001b[0;34m.\u001b[0m\u001b[0mDataFrame\u001b[0m\u001b[0;34m(\u001b[0m\u001b[0ma2500\u001b[0m\u001b[0;34m,\u001b[0m \u001b[0mcolumns\u001b[0m\u001b[0;34m=\u001b[0m \u001b[0;34m[\u001b[0m\u001b[0;34m'heartRate'\u001b[0m\u001b[0;34m,\u001b[0m \u001b[0;34m'pulse'\u001b[0m\u001b[0;34m]\u001b[0m\u001b[0;34m)\u001b[0m\u001b[0;34m.\u001b[0m\u001b[0mplot\u001b[0m\u001b[0;34m.\u001b[0m\u001b[0mhist\u001b[0m\u001b[0;34m(\u001b[0m\u001b[0mx\u001b[0m\u001b[0;34m=\u001b[0m\u001b[0;34m'heartRate'\u001b[0m\u001b[0;34m,\u001b[0m \u001b[0my\u001b[0m\u001b[0;34m=\u001b[0m\u001b[0;34m'pulse'\u001b[0m\u001b[0;34m,\u001b[0m \u001b[0mbins\u001b[0m\u001b[0;34m=\u001b[0m \u001b[0;36m200\u001b[0m\u001b[0;34m)\u001b[0m\u001b[0;34m\u001b[0m\u001b[0m\n\u001b[1;32m      4\u001b[0m \u001b[0;34m\u001b[0m\u001b[0m\n\u001b[1;32m      5\u001b[0m \u001b[0mplt\u001b[0m\u001b[0;34m.\u001b[0m\u001b[0mshow\u001b[0m\u001b[0;34m(\u001b[0m\u001b[0;34m)\u001b[0m\u001b[0;34m\u001b[0m\u001b[0m\n",
            "\u001b[0;32m<ipython-input-46-b44ddc40d67f>\u001b[0m in \u001b[0;36mbenchmark\u001b[0;34m(myHealthcare)\u001b[0m\n\u001b[1;32m      4\u001b[0m     \u001b[0mpulse_index\u001b[0m\u001b[0;34m=\u001b[0m \u001b[0;34m[\u001b[0m\u001b[0;34m]\u001b[0m\u001b[0;34m\u001b[0m\u001b[0m\n\u001b[1;32m      5\u001b[0m     \u001b[0;32mfor\u001b[0m \u001b[0mi\u001b[0m \u001b[0;32min\u001b[0m \u001b[0mrange\u001b[0m \u001b[0;34m(\u001b[0m\u001b[0mn\u001b[0m\u001b[0;34m)\u001b[0m\u001b[0;34m:\u001b[0m\u001b[0;34m\u001b[0m\u001b[0m\n\u001b[0;32m----> 6\u001b[0;31m         \u001b[0mpulse\u001b[0m \u001b[0;34m=\u001b[0m \u001b[0mpulseList\u001b[0m\u001b[0;34m[\u001b[0m\u001b[0mi\u001b[0m\u001b[0;34m]\u001b[0m\u001b[0;34m\u001b[0m\u001b[0m\n\u001b[0m\u001b[1;32m      7\u001b[0m         \u001b[0mheartRate\u001b[0m \u001b[0;34m=\u001b[0m \u001b[0mheartRateList\u001b[0m\u001b[0;34m[\u001b[0m\u001b[0mi\u001b[0m\u001b[0;34m]\u001b[0m\u001b[0;34m\u001b[0m\u001b[0m\n\u001b[1;32m      8\u001b[0m         \u001b[0;32mfor\u001b[0m \u001b[0mi\u001b[0m \u001b[0;32min\u001b[0m \u001b[0mrange\u001b[0m \u001b[0;34m(\u001b[0m\u001b[0mn\u001b[0m\u001b[0;34m)\u001b[0m\u001b[0;34m:\u001b[0m\u001b[0;34m\u001b[0m\u001b[0m\n",
            "\u001b[0;31mIndexError\u001b[0m: index 1000 is out of bounds for axis 0 with size 1000"
          ]
        }
      ]
    },
    {
      "cell_type": "code",
      "metadata": {
        "id": "W6hPj3zRDa6-",
        "outputId": "382dbb12-35dc-424f-8cb1-05832d0fdecf"
      },
      "source": [
        "n = 5000\n",
        "benchmark(myHealthcare)"
      ],
      "execution_count": null,
      "outputs": [
        {
          "output_type": "stream",
          "text": [
            "321 µs ± 2.91 µs per loop (mean ± std. dev. of 7 runs, 1000 loops each)\n"
          ],
          "name": "stdout"
        }
      ]
    },
    {
      "cell_type": "code",
      "metadata": {
        "id": "VrV4jn-QDa6-"
      },
      "source": [
        "# Plotting myHealthcare() for n = 5000"
      ],
      "execution_count": null,
      "outputs": []
    },
    {
      "cell_type": "code",
      "metadata": {
        "scrolled": true,
        "id": "ifdngUs3Da6-",
        "outputId": "885356e2-6fed-4fb2-87c0-62333f05512b"
      },
      "source": [
        "n = 7500\n",
        "benchmark(myHealthcare)"
      ],
      "execution_count": null,
      "outputs": [
        {
          "output_type": "stream",
          "text": [
            "498 µs ± 19.6 µs per loop (mean ± std. dev. of 7 runs, 1000 loops each)\n"
          ],
          "name": "stdout"
        }
      ]
    },
    {
      "cell_type": "code",
      "metadata": {
        "id": "qu4mAiBgDa6_"
      },
      "source": [
        "# plotting myHealthcare() for n =7500"
      ],
      "execution_count": null,
      "outputs": []
    },
    {
      "cell_type": "code",
      "metadata": {
        "id": "lBzPjY0pDa6_",
        "outputId": "62d8b17e-d250-4388-864e-3a77124e74cf"
      },
      "source": [
        "n = 10000\n",
        "benchmark(myHealthcare)"
      ],
      "execution_count": null,
      "outputs": [
        {
          "output_type": "stream",
          "text": [
            "649 µs ± 30.3 µs per loop (mean ± std. dev. of 7 runs, 1000 loops each)\n"
          ],
          "name": "stdout"
        }
      ]
    },
    {
      "cell_type": "code",
      "metadata": {
        "id": "Ip14Ij2gDa6_"
      },
      "source": [
        "# Plotting myHealthcare() for n = 10000"
      ],
      "execution_count": null,
      "outputs": []
    },
    {
      "cell_type": "code",
      "metadata": {
        "id": "XrEMGK_vDa6_"
      },
      "source": [
        "for n in range (2000):\n",
        "    print(df.round(1))"
      ],
      "execution_count": null,
      "outputs": []
    }
  ]
}